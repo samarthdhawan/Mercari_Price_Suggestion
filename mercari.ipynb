{
 "cells": [
  {
   "cell_type": "code",
   "execution_count": 1,
   "metadata": {
    "_cell_guid": "b1076dfc-b9ad-4769-8c92-a6c4dae69d19",
    "_uuid": "8f2839f25d086af736a60e9eeb907d3b93b6e0e5"
   },
   "outputs": [
    {
     "name": "stdout",
     "output_type": "stream",
     "text": [
      "/kaggle/input/mercari/test_stg2.tsv\n",
      "/kaggle/input/mercari/sample_submission_stg2.csv\n",
      "/kaggle/input/mercari/test.tsv\n",
      "/kaggle/input/mercari/train.tsv\n",
      "/kaggle/input/mercari/sample_submission.csv\n"
     ]
    }
   ],
   "source": [
    "# This Python 3 environment comes with many helpful analytics libraries installed\n",
    "# It is defined by the kaggle/python docker image: https://github.com/kaggle/docker-python\n",
    "# For example, here's several helpful packages to load in \n",
    "\n",
    "import numpy as np # linear algebra\n",
    "import pandas as pd # data processing, CSV file I/O (e.g. pd.read_csv)\n",
    "\n",
    "# Input data files are available in the \"../input/\" directory.\n",
    "# For example, running this (by clicking run or pressing Shift+Enter) will list all files under the input directory\n",
    "\n",
    "import os\n",
    "for dirname, _, filenames in os.walk('/kaggle/input/mercari/'):\n",
    "    for filename in filenames:\n",
    "        print(os.path.join(dirname, filename))\n",
    "\n",
    "# Any results you write to the current directory are saved as output."
   ]
  },
  {
   "cell_type": "code",
   "execution_count": 2,
   "metadata": {},
   "outputs": [],
   "source": [
    "import matplotlib.pyplot as plt\n",
    "import seaborn as sns\n",
    "import pandas as pd"
   ]
  },
  {
   "cell_type": "code",
   "execution_count": 3,
   "metadata": {
    "_cell_guid": "",
    "_uuid": ""
   },
   "outputs": [],
   "source": [
    "\n",
    "sample_submission = pd.read_csv(\"../input/mercari/sample_submission.csv\")\n",
    "sample_submission_stg2 = pd.read_csv(\"../input/mercari/sample_submission_stg2.csv\")"
   ]
  },
  {
   "cell_type": "code",
   "execution_count": 4,
   "metadata": {},
   "outputs": [],
   "source": [
    "#importing train data\n",
    "raw_data=pd.read_csv(\"../input/mercari/train.tsv\",sep=\"\\t\")"
   ]
  },
  {
   "cell_type": "code",
   "execution_count": 5,
   "metadata": {},
   "outputs": [],
   "source": [
    "test_data=pd.read_csv(\"../input/mercari/test_stg2.tsv\",sep=\"\\t\")"
   ]
  },
  {
   "cell_type": "code",
   "execution_count": 6,
   "metadata": {},
   "outputs": [
    {
     "data": {
      "text/html": [
       "<div>\n",
       "<style scoped>\n",
       "    .dataframe tbody tr th:only-of-type {\n",
       "        vertical-align: middle;\n",
       "    }\n",
       "\n",
       "    .dataframe tbody tr th {\n",
       "        vertical-align: top;\n",
       "    }\n",
       "\n",
       "    .dataframe thead th {\n",
       "        text-align: right;\n",
       "    }\n",
       "</style>\n",
       "<table border=\"1\" class=\"dataframe\">\n",
       "  <thead>\n",
       "    <tr style=\"text-align: right;\">\n",
       "      <th></th>\n",
       "      <th>test_id</th>\n",
       "      <th>name</th>\n",
       "      <th>item_condition_id</th>\n",
       "      <th>category_name</th>\n",
       "      <th>brand_name</th>\n",
       "      <th>shipping</th>\n",
       "      <th>item_description</th>\n",
       "    </tr>\n",
       "  </thead>\n",
       "  <tbody>\n",
       "    <tr>\n",
       "      <th>0</th>\n",
       "      <td>0</td>\n",
       "      <td>Breast cancer \"I fight like a girl\" ring</td>\n",
       "      <td>1</td>\n",
       "      <td>Women/Jewelry/Rings</td>\n",
       "      <td>NaN</td>\n",
       "      <td>1</td>\n",
       "      <td>Size 7</td>\n",
       "    </tr>\n",
       "    <tr>\n",
       "      <th>1</th>\n",
       "      <td>1</td>\n",
       "      <td>25 pcs NEW 7.5\"x12\" Kraft Bubble Mailers</td>\n",
       "      <td>1</td>\n",
       "      <td>Other/Office supplies/Shipping Supplies</td>\n",
       "      <td>NaN</td>\n",
       "      <td>1</td>\n",
       "      <td>25 pcs NEW 7.5\"x12\" Kraft Bubble Mailers Lined...</td>\n",
       "    </tr>\n",
       "  </tbody>\n",
       "</table>\n",
       "</div>"
      ],
      "text/plain": [
       "   test_id                                      name  item_condition_id  \\\n",
       "0        0  Breast cancer \"I fight like a girl\" ring                  1   \n",
       "1        1  25 pcs NEW 7.5\"x12\" Kraft Bubble Mailers                  1   \n",
       "\n",
       "                             category_name brand_name  shipping  \\\n",
       "0                      Women/Jewelry/Rings        NaN         1   \n",
       "1  Other/Office supplies/Shipping Supplies        NaN         1   \n",
       "\n",
       "                                    item_description  \n",
       "0                                             Size 7  \n",
       "1  25 pcs NEW 7.5\"x12\" Kraft Bubble Mailers Lined...  "
      ]
     },
     "execution_count": 6,
     "metadata": {},
     "output_type": "execute_result"
    }
   ],
   "source": [
    "test_data.head(2)"
   ]
  },
  {
   "cell_type": "code",
   "execution_count": 7,
   "metadata": {},
   "outputs": [
    {
     "data": {
      "text/plain": [
       "(3460725, 7)"
      ]
     },
     "execution_count": 7,
     "metadata": {},
     "output_type": "execute_result"
    }
   ],
   "source": [
    "test_data.shape"
   ]
  },
  {
   "cell_type": "code",
   "execution_count": 8,
   "metadata": {},
   "outputs": [
    {
     "data": {
      "text/plain": [
       "(1482535, 8)"
      ]
     },
     "execution_count": 8,
     "metadata": {},
     "output_type": "execute_result"
    }
   ],
   "source": [
    "raw_data.shape"
   ]
  },
  {
   "cell_type": "code",
   "execution_count": 9,
   "metadata": {},
   "outputs": [
    {
     "name": "stdout",
     "output_type": "stream",
     "text": [
      "(1482535, 8)\n"
     ]
    },
    {
     "data": {
      "text/html": [
       "<div>\n",
       "<style scoped>\n",
       "    .dataframe tbody tr th:only-of-type {\n",
       "        vertical-align: middle;\n",
       "    }\n",
       "\n",
       "    .dataframe tbody tr th {\n",
       "        vertical-align: top;\n",
       "    }\n",
       "\n",
       "    .dataframe thead th {\n",
       "        text-align: right;\n",
       "    }\n",
       "</style>\n",
       "<table border=\"1\" class=\"dataframe\">\n",
       "  <thead>\n",
       "    <tr style=\"text-align: right;\">\n",
       "      <th></th>\n",
       "      <th>train_id</th>\n",
       "      <th>name</th>\n",
       "      <th>item_condition_id</th>\n",
       "      <th>category_name</th>\n",
       "      <th>brand_name</th>\n",
       "      <th>price</th>\n",
       "      <th>shipping</th>\n",
       "      <th>item_description</th>\n",
       "    </tr>\n",
       "  </thead>\n",
       "  <tbody>\n",
       "    <tr>\n",
       "      <th>0</th>\n",
       "      <td>0</td>\n",
       "      <td>MLB Cincinnati Reds T Shirt Size XL</td>\n",
       "      <td>3</td>\n",
       "      <td>Men/Tops/T-shirts</td>\n",
       "      <td>NaN</td>\n",
       "      <td>10.0</td>\n",
       "      <td>1</td>\n",
       "      <td>No description yet</td>\n",
       "    </tr>\n",
       "    <tr>\n",
       "      <th>1</th>\n",
       "      <td>1</td>\n",
       "      <td>Razer BlackWidow Chroma Keyboard</td>\n",
       "      <td>3</td>\n",
       "      <td>Electronics/Computers &amp; Tablets/Components &amp; P...</td>\n",
       "      <td>Razer</td>\n",
       "      <td>52.0</td>\n",
       "      <td>0</td>\n",
       "      <td>This keyboard is in great condition and works ...</td>\n",
       "    </tr>\n",
       "    <tr>\n",
       "      <th>2</th>\n",
       "      <td>2</td>\n",
       "      <td>AVA-VIV Blouse</td>\n",
       "      <td>1</td>\n",
       "      <td>Women/Tops &amp; Blouses/Blouse</td>\n",
       "      <td>Target</td>\n",
       "      <td>10.0</td>\n",
       "      <td>1</td>\n",
       "      <td>Adorable top with a hint of lace and a key hol...</td>\n",
       "    </tr>\n",
       "    <tr>\n",
       "      <th>3</th>\n",
       "      <td>3</td>\n",
       "      <td>Leather Horse Statues</td>\n",
       "      <td>1</td>\n",
       "      <td>Home/Home Décor/Home Décor Accents</td>\n",
       "      <td>NaN</td>\n",
       "      <td>35.0</td>\n",
       "      <td>1</td>\n",
       "      <td>New with tags. Leather horses. Retail for [rm]...</td>\n",
       "    </tr>\n",
       "    <tr>\n",
       "      <th>4</th>\n",
       "      <td>4</td>\n",
       "      <td>24K GOLD plated rose</td>\n",
       "      <td>1</td>\n",
       "      <td>Women/Jewelry/Necklaces</td>\n",
       "      <td>NaN</td>\n",
       "      <td>44.0</td>\n",
       "      <td>0</td>\n",
       "      <td>Complete with certificate of authenticity</td>\n",
       "    </tr>\n",
       "  </tbody>\n",
       "</table>\n",
       "</div>"
      ],
      "text/plain": [
       "   train_id                                 name  item_condition_id  \\\n",
       "0         0  MLB Cincinnati Reds T Shirt Size XL                  3   \n",
       "1         1     Razer BlackWidow Chroma Keyboard                  3   \n",
       "2         2                       AVA-VIV Blouse                  1   \n",
       "3         3                Leather Horse Statues                  1   \n",
       "4         4                 24K GOLD plated rose                  1   \n",
       "\n",
       "                                       category_name brand_name  price  \\\n",
       "0                                  Men/Tops/T-shirts        NaN   10.0   \n",
       "1  Electronics/Computers & Tablets/Components & P...      Razer   52.0   \n",
       "2                        Women/Tops & Blouses/Blouse     Target   10.0   \n",
       "3                 Home/Home Décor/Home Décor Accents        NaN   35.0   \n",
       "4                            Women/Jewelry/Necklaces        NaN   44.0   \n",
       "\n",
       "   shipping                                   item_description  \n",
       "0         1                                 No description yet  \n",
       "1         0  This keyboard is in great condition and works ...  \n",
       "2         1  Adorable top with a hint of lace and a key hol...  \n",
       "3         1  New with tags. Leather horses. Retail for [rm]...  \n",
       "4         0          Complete with certificate of authenticity  "
      ]
     },
     "execution_count": 9,
     "metadata": {},
     "output_type": "execute_result"
    }
   ],
   "source": [
    "# seeing the first few rows of raw data\n",
    "print(raw_data.shape)\n",
    "raw_data.head(5)"
   ]
  },
  {
   "cell_type": "code",
   "execution_count": 10,
   "metadata": {},
   "outputs": [
    {
     "data": {
      "text/plain": [
       "0"
      ]
     },
     "execution_count": 10,
     "metadata": {},
     "output_type": "execute_result"
    }
   ],
   "source": [
    "# checking the null values in name column\n",
    "raw_data['name'].isnull().sum()"
   ]
  },
  {
   "cell_type": "code",
   "execution_count": 11,
   "metadata": {},
   "outputs": [],
   "source": [
    "#converting all text to lower case\n",
    "raw_data['name']=raw_data['name'].str.lower()"
   ]
  },
  {
   "cell_type": "code",
   "execution_count": 12,
   "metadata": {},
   "outputs": [
    {
     "data": {
      "text/html": [
       "<div>\n",
       "<style scoped>\n",
       "    .dataframe tbody tr th:only-of-type {\n",
       "        vertical-align: middle;\n",
       "    }\n",
       "\n",
       "    .dataframe tbody tr th {\n",
       "        vertical-align: top;\n",
       "    }\n",
       "\n",
       "    .dataframe thead th {\n",
       "        text-align: right;\n",
       "    }\n",
       "</style>\n",
       "<table border=\"1\" class=\"dataframe\">\n",
       "  <thead>\n",
       "    <tr style=\"text-align: right;\">\n",
       "      <th></th>\n",
       "      <th>train_id</th>\n",
       "      <th>name</th>\n",
       "      <th>item_condition_id</th>\n",
       "      <th>category_name</th>\n",
       "      <th>brand_name</th>\n",
       "      <th>price</th>\n",
       "      <th>shipping</th>\n",
       "      <th>item_description</th>\n",
       "    </tr>\n",
       "  </thead>\n",
       "  <tbody>\n",
       "    <tr>\n",
       "      <th>0</th>\n",
       "      <td>0</td>\n",
       "      <td>mlb cincinnati reds t shirt size xl</td>\n",
       "      <td>3</td>\n",
       "      <td>Men/Tops/T-shirts</td>\n",
       "      <td>NaN</td>\n",
       "      <td>10.0</td>\n",
       "      <td>1</td>\n",
       "      <td>No description yet</td>\n",
       "    </tr>\n",
       "    <tr>\n",
       "      <th>1</th>\n",
       "      <td>1</td>\n",
       "      <td>razer blackwidow chroma keyboard</td>\n",
       "      <td>3</td>\n",
       "      <td>Electronics/Computers &amp; Tablets/Components &amp; P...</td>\n",
       "      <td>Razer</td>\n",
       "      <td>52.0</td>\n",
       "      <td>0</td>\n",
       "      <td>This keyboard is in great condition and works ...</td>\n",
       "    </tr>\n",
       "  </tbody>\n",
       "</table>\n",
       "</div>"
      ],
      "text/plain": [
       "   train_id                                 name  item_condition_id  \\\n",
       "0         0  mlb cincinnati reds t shirt size xl                  3   \n",
       "1         1     razer blackwidow chroma keyboard                  3   \n",
       "\n",
       "                                       category_name brand_name  price  \\\n",
       "0                                  Men/Tops/T-shirts        NaN   10.0   \n",
       "1  Electronics/Computers & Tablets/Components & P...      Razer   52.0   \n",
       "\n",
       "   shipping                                   item_description  \n",
       "0         1                                 No description yet  \n",
       "1         0  This keyboard is in great condition and works ...  "
      ]
     },
     "execution_count": 12,
     "metadata": {},
     "output_type": "execute_result"
    }
   ],
   "source": [
    "raw_data.head(2)"
   ]
  },
  {
   "cell_type": "markdown",
   "metadata": {},
   "source": [
    "No Null Values in the name column. all items have a name"
   ]
  },
  {
   "cell_type": "code",
   "execution_count": 13,
   "metadata": {},
   "outputs": [
    {
     "data": {
      "text/plain": [
       "1    640549\n",
       "3    432161\n",
       "2    375479\n",
       "4     31962\n",
       "5      2384\n",
       "Name: item_condition_id, dtype: int64"
      ]
     },
     "execution_count": 13,
     "metadata": {},
     "output_type": "execute_result"
    }
   ],
   "source": [
    "#checking distinct values in item condition id\n",
    "raw_data['item_condition_id'].value_counts()"
   ]
  },
  {
   "cell_type": "code",
   "execution_count": 14,
   "metadata": {},
   "outputs": [
    {
     "data": {
      "text/plain": [
       "0"
      ]
     },
     "execution_count": 14,
     "metadata": {},
     "output_type": "execute_result"
    }
   ],
   "source": [
    "raw_data['item_condition_id'].isnull().sum()"
   ]
  },
  {
   "cell_type": "code",
   "execution_count": 15,
   "metadata": {},
   "outputs": [
    {
     "data": {
      "image/png": "[encoded data removed]",
      "text/plain": [
       "<Figure size 432x288 with 1 Axes>"
      ]
     },
     "metadata": {
      "needs_background": "light"
     },
     "output_type": "display_data"
    },
    {
     "name": "stdout",
     "output_type": "stream",
     "text": [
      "1    0.432063\n",
      "2    0.253268\n",
      "3    0.291501\n",
      "4    0.021559\n",
      "5    0.001608\n",
      "Name: item_condition_id, dtype: float64\n"
     ]
    }
   ],
   "source": [
    "sns.countplot(x='item_condition_id',data=raw_data)\n",
    "plt.ylabel(\"Count of items\")\n",
    "plt.title(\"Count of Items based on condition\")\n",
    "plt.show()\n",
    "\n",
    "print(raw_data.item_condition_id.value_counts(normalize=True,sort=False))"
   ]
  },
  {
   "cell_type": "markdown",
   "metadata": {},
   "source": [
    "* No Null Values in the item condition\n",
    "* Most of the products have condition equal to 1 (43.2%)\n",
    "* ~98% of the items have condition <=3"
   ]
  },
  {
   "cell_type": "code",
   "execution_count": 16,
   "metadata": {},
   "outputs": [
    {
     "name": "stdout",
     "output_type": "stream",
     "text": [
      "6327(0.4%) items have no category mention\n"
     ]
    }
   ],
   "source": [
    "# exploring category\n",
    "raw_data['category_name'].isnull().sum()\n",
    "\n",
    "print(\"6327(0.4%) items have no category mention\")"
   ]
  },
  {
   "cell_type": "code",
   "execution_count": 17,
   "metadata": {},
   "outputs": [
    {
     "data": {
      "text/plain": [
       "Women/Athletic Apparel/Pants, Tights, Leggings                 60177\n",
       "Women/Tops & Blouses/T-Shirts                                  46380\n",
       "Beauty/Makeup/Face                                             34335\n",
       "Beauty/Makeup/Lips                                             29910\n",
       "Electronics/Video Games & Consoles/Games                       26557\n",
       "Beauty/Makeup/Eyes                                             25215\n",
       "Electronics/Cell Phones & Accessories/Cases, Covers & Skins    24676\n",
       "Women/Underwear/Bras                                           21274\n",
       "Women/Tops & Blouses/Tank, Cami                                20284\n",
       "Women/Tops & Blouses/Blouse                                    20284\n",
       "Name: category_name, dtype: int64"
      ]
     },
     "execution_count": 17,
     "metadata": {},
     "output_type": "execute_result"
    }
   ],
   "source": [
    "#checking most frequently occuring categories\n",
    "raw_data['category_name'].value_counts()[:10]"
   ]
  },
  {
   "cell_type": "code",
   "execution_count": 18,
   "metadata": {},
   "outputs": [
    {
     "data": {
      "text/plain": [
       "1287"
      ]
     },
     "execution_count": 18,
     "metadata": {},
     "output_type": "execute_result"
    }
   ],
   "source": [
    "raw_data['category_name'].nunique()"
   ]
  },
  {
   "cell_type": "markdown",
   "metadata": {},
   "source": [
    "There are 1,287 unique categories"
   ]
  },
  {
   "cell_type": "code",
   "execution_count": 19,
   "metadata": {},
   "outputs": [],
   "source": [
    "## converting all category names to lower case\n",
    "raw_data['category_name']=raw_data['category_name'].str.lower()"
   ]
  },
  {
   "cell_type": "code",
   "execution_count": 20,
   "metadata": {},
   "outputs": [
    {
     "data": {
      "text/html": [
       "<div>\n",
       "<style scoped>\n",
       "    .dataframe tbody tr th:only-of-type {\n",
       "        vertical-align: middle;\n",
       "    }\n",
       "\n",
       "    .dataframe tbody tr th {\n",
       "        vertical-align: top;\n",
       "    }\n",
       "\n",
       "    .dataframe thead th {\n",
       "        text-align: right;\n",
       "    }\n",
       "</style>\n",
       "<table border=\"1\" class=\"dataframe\">\n",
       "  <thead>\n",
       "    <tr style=\"text-align: right;\">\n",
       "      <th></th>\n",
       "      <th>train_id</th>\n",
       "      <th>name</th>\n",
       "      <th>item_condition_id</th>\n",
       "      <th>category_name</th>\n",
       "      <th>brand_name</th>\n",
       "      <th>price</th>\n",
       "      <th>shipping</th>\n",
       "      <th>item_description</th>\n",
       "    </tr>\n",
       "  </thead>\n",
       "  <tbody>\n",
       "    <tr>\n",
       "      <th>0</th>\n",
       "      <td>0</td>\n",
       "      <td>mlb cincinnati reds t shirt size xl</td>\n",
       "      <td>3</td>\n",
       "      <td>men/tops/t-shirts</td>\n",
       "      <td>NaN</td>\n",
       "      <td>10.0</td>\n",
       "      <td>1</td>\n",
       "      <td>No description yet</td>\n",
       "    </tr>\n",
       "    <tr>\n",
       "      <th>1</th>\n",
       "      <td>1</td>\n",
       "      <td>razer blackwidow chroma keyboard</td>\n",
       "      <td>3</td>\n",
       "      <td>electronics/computers &amp; tablets/components &amp; p...</td>\n",
       "      <td>Razer</td>\n",
       "      <td>52.0</td>\n",
       "      <td>0</td>\n",
       "      <td>This keyboard is in great condition and works ...</td>\n",
       "    </tr>\n",
       "  </tbody>\n",
       "</table>\n",
       "</div>"
      ],
      "text/plain": [
       "   train_id                                 name  item_condition_id  \\\n",
       "0         0  mlb cincinnati reds t shirt size xl                  3   \n",
       "1         1     razer blackwidow chroma keyboard                  3   \n",
       "\n",
       "                                       category_name brand_name  price  \\\n",
       "0                                  men/tops/t-shirts        NaN   10.0   \n",
       "1  electronics/computers & tablets/components & p...      Razer   52.0   \n",
       "\n",
       "   shipping                                   item_description  \n",
       "0         1                                 No description yet  \n",
       "1         0  This keyboard is in great condition and works ...  "
      ]
     },
     "execution_count": 20,
     "metadata": {},
     "output_type": "execute_result"
    }
   ],
   "source": [
    "raw_data.head(2)"
   ]
  },
  {
   "cell_type": "code",
   "execution_count": 21,
   "metadata": {},
   "outputs": [],
   "source": [
    "#splitting category into three columns\n",
    "# https://www.geeksforgeeks.org/python-pandas-split-strings-into-two-list-columns-using-str-split/\n",
    "sub_category_columns=raw_data['category_name'].str.split(\"/\",expand=True,n=2)"
   ]
  },
  {
   "cell_type": "code",
   "execution_count": 22,
   "metadata": {},
   "outputs": [],
   "source": [
    "raw_data['category']=sub_category_columns[0]\n",
    "raw_data['subcategory1']=sub_category_columns[1]\n",
    "raw_data['subcategory2']=sub_category_columns[2]"
   ]
  },
  {
   "cell_type": "code",
   "execution_count": 23,
   "metadata": {},
   "outputs": [
    {
     "data": {
      "text/html": [
       "<div>\n",
       "<style scoped>\n",
       "    .dataframe tbody tr th:only-of-type {\n",
       "        vertical-align: middle;\n",
       "    }\n",
       "\n",
       "    .dataframe tbody tr th {\n",
       "        vertical-align: top;\n",
       "    }\n",
       "\n",
       "    .dataframe thead th {\n",
       "        text-align: right;\n",
       "    }\n",
       "</style>\n",
       "<table border=\"1\" class=\"dataframe\">\n",
       "  <thead>\n",
       "    <tr style=\"text-align: right;\">\n",
       "      <th></th>\n",
       "      <th>train_id</th>\n",
       "      <th>name</th>\n",
       "      <th>item_condition_id</th>\n",
       "      <th>category_name</th>\n",
       "      <th>brand_name</th>\n",
       "      <th>price</th>\n",
       "      <th>shipping</th>\n",
       "      <th>item_description</th>\n",
       "      <th>category</th>\n",
       "      <th>subcategory1</th>\n",
       "      <th>subcategory2</th>\n",
       "    </tr>\n",
       "  </thead>\n",
       "  <tbody>\n",
       "    <tr>\n",
       "      <th>27</th>\n",
       "      <td>27</td>\n",
       "      <td>lularoe os black with white polka dots</td>\n",
       "      <td>3</td>\n",
       "      <td>women/athletic apparel/pants, tights, leggings</td>\n",
       "      <td>LuLaRoe</td>\n",
       "      <td>24.0</td>\n",
       "      <td>0</td>\n",
       "      <td>Worn one time. Excellent condition</td>\n",
       "      <td>women</td>\n",
       "      <td>athletic apparel</td>\n",
       "      <td>pants, tights, leggings</td>\n",
       "    </tr>\n",
       "    <tr>\n",
       "      <th>31</th>\n",
       "      <td>31</td>\n",
       "      <td>new lularoe os leggings, stars</td>\n",
       "      <td>1</td>\n",
       "      <td>women/athletic apparel/pants, tights, leggings</td>\n",
       "      <td>NaN</td>\n",
       "      <td>50.0</td>\n",
       "      <td>1</td>\n",
       "      <td>No description yet</td>\n",
       "      <td>women</td>\n",
       "      <td>athletic apparel</td>\n",
       "      <td>pants, tights, leggings</td>\n",
       "    </tr>\n",
       "  </tbody>\n",
       "</table>\n",
       "</div>"
      ],
      "text/plain": [
       "    train_id                                    name  item_condition_id  \\\n",
       "27        27  lularoe os black with white polka dots                  3   \n",
       "31        31          new lularoe os leggings, stars                  1   \n",
       "\n",
       "                                     category_name brand_name  price  \\\n",
       "27  women/athletic apparel/pants, tights, leggings    LuLaRoe   24.0   \n",
       "31  women/athletic apparel/pants, tights, leggings        NaN   50.0   \n",
       "\n",
       "    shipping                    item_description category      subcategory1  \\\n",
       "27         0  Worn one time. Excellent condition    women  athletic apparel   \n",
       "31         1                  No description yet    women  athletic apparel   \n",
       "\n",
       "               subcategory2  \n",
       "27  pants, tights, leggings  \n",
       "31  pants, tights, leggings  "
      ]
     },
     "execution_count": 23,
     "metadata": {},
     "output_type": "execute_result"
    }
   ],
   "source": [
    "raw_data[raw_data['category_name']=='women/athletic apparel/pants, tights, leggings'].head(2)"
   ]
  },
  {
   "cell_type": "code",
   "execution_count": 24,
   "metadata": {},
   "outputs": [
    {
     "name": "stdout",
     "output_type": "stream",
     "text": [
      "Distinct Brand Names : 4809\n",
      "Missing Brand Names : 632682 Percentage :0.4267568725190299\n"
     ]
    }
   ],
   "source": [
    "#exploring brand names\n",
    "print(\"Distinct Brand Names : {}\".format(raw_data['brand_name'].nunique()))\n",
    "print(\"Missing Brand Names : {}\".format(raw_data['brand_name'].isnull().sum()),\"Percentage :{}\".format(raw_data['brand_name'].isnull().sum()/raw_data.shape[0]))"
   ]
  },
  {
   "cell_type": "markdown",
   "metadata": {},
   "source": [
    "There are close to 43% of items which dont have a brand name against it.\n",
    "We will try and see if we can fill these brand names using name of the product"
   ]
  },
  {
   "cell_type": "code",
   "execution_count": 25,
   "metadata": {},
   "outputs": [],
   "source": [
    "#converting brand names to lower case\n",
    "raw_data['brand_name']=raw_data['brand_name'].str.lower()"
   ]
  },
  {
   "cell_type": "code",
   "execution_count": 26,
   "metadata": {},
   "outputs": [
    {
     "data": {
      "text/html": [
       "<div>\n",
       "<style scoped>\n",
       "    .dataframe tbody tr th:only-of-type {\n",
       "        vertical-align: middle;\n",
       "    }\n",
       "\n",
       "    .dataframe tbody tr th {\n",
       "        vertical-align: top;\n",
       "    }\n",
       "\n",
       "    .dataframe thead th {\n",
       "        text-align: right;\n",
       "    }\n",
       "</style>\n",
       "<table border=\"1\" class=\"dataframe\">\n",
       "  <thead>\n",
       "    <tr style=\"text-align: right;\">\n",
       "      <th></th>\n",
       "      <th>train_id</th>\n",
       "      <th>name</th>\n",
       "      <th>item_condition_id</th>\n",
       "      <th>category_name</th>\n",
       "      <th>brand_name</th>\n",
       "      <th>price</th>\n",
       "      <th>shipping</th>\n",
       "      <th>item_description</th>\n",
       "      <th>category</th>\n",
       "      <th>subcategory1</th>\n",
       "      <th>subcategory2</th>\n",
       "    </tr>\n",
       "  </thead>\n",
       "  <tbody>\n",
       "    <tr>\n",
       "      <th>0</th>\n",
       "      <td>0</td>\n",
       "      <td>mlb cincinnati reds t shirt size xl</td>\n",
       "      <td>3</td>\n",
       "      <td>men/tops/t-shirts</td>\n",
       "      <td>NaN</td>\n",
       "      <td>10.0</td>\n",
       "      <td>1</td>\n",
       "      <td>No description yet</td>\n",
       "      <td>men</td>\n",
       "      <td>tops</td>\n",
       "      <td>t-shirts</td>\n",
       "    </tr>\n",
       "    <tr>\n",
       "      <th>1</th>\n",
       "      <td>1</td>\n",
       "      <td>razer blackwidow chroma keyboard</td>\n",
       "      <td>3</td>\n",
       "      <td>electronics/computers &amp; tablets/components &amp; p...</td>\n",
       "      <td>razer</td>\n",
       "      <td>52.0</td>\n",
       "      <td>0</td>\n",
       "      <td>This keyboard is in great condition and works ...</td>\n",
       "      <td>electronics</td>\n",
       "      <td>computers &amp; tablets</td>\n",
       "      <td>components &amp; parts</td>\n",
       "    </tr>\n",
       "  </tbody>\n",
       "</table>\n",
       "</div>"
      ],
      "text/plain": [
       "   train_id                                 name  item_condition_id  \\\n",
       "0         0  mlb cincinnati reds t shirt size xl                  3   \n",
       "1         1     razer blackwidow chroma keyboard                  3   \n",
       "\n",
       "                                       category_name brand_name  price  \\\n",
       "0                                  men/tops/t-shirts        NaN   10.0   \n",
       "1  electronics/computers & tablets/components & p...      razer   52.0   \n",
       "\n",
       "   shipping                                   item_description     category  \\\n",
       "0         1                                 No description yet          men   \n",
       "1         0  This keyboard is in great condition and works ...  electronics   \n",
       "\n",
       "          subcategory1        subcategory2  \n",
       "0                 tops            t-shirts  \n",
       "1  computers & tablets  components & parts  "
      ]
     },
     "execution_count": 26,
     "metadata": {},
     "output_type": "execute_result"
    }
   ],
   "source": [
    "raw_data.head(2)"
   ]
  },
  {
   "cell_type": "code",
   "execution_count": 27,
   "metadata": {},
   "outputs": [
    {
     "name": "stdout",
     "output_type": "stream",
     "text": [
      "4810\n",
      "4809\n"
     ]
    }
   ],
   "source": [
    "# trying to impute brand name\n",
    "list_of_brand_names=raw_data['brand_name'].unique().tolist()\n",
    "print(len(list_of_brand_names))\n",
    "cleaned_brand_list = [x for x in list_of_brand_names if str(x) != 'nan']\n",
    "print(len(cleaned_brand_list))"
   ]
  },
  {
   "cell_type": "code",
   "execution_count": 28,
   "metadata": {},
   "outputs": [
    {
     "data": {
      "text/plain": [
       "pink                 54088\n",
       "nike                 54043\n",
       "victoria's secret    48036\n",
       "lularoe              31024\n",
       "apple                17322\n",
       "forever 21           15186\n",
       "nintendo             15007\n",
       "lululemon            14558\n",
       "michael kors         13928\n",
       "american eagle       13254\n",
       "Name: brand_name, dtype: int64"
      ]
     },
     "execution_count": 28,
     "metadata": {},
     "output_type": "execute_result"
    }
   ],
   "source": [
    "#top 10 brand names\n",
    "raw_data['brand_name'].value_counts().head(10)"
   ]
  },
  {
   "cell_type": "code",
   "execution_count": 29,
   "metadata": {},
   "outputs": [],
   "source": [
    "def brand_replace(column):\n",
    "    for i in cleaned_brand_list:\n",
    "        if i in str(column).split():\n",
    "            return i"
   ]
  },
  {
   "cell_type": "code",
   "execution_count": 30,
   "metadata": {},
   "outputs": [],
   "source": [
    "raw_data['Newbrand']=raw_data['name'].apply(brand_replace)"
   ]
  },
  {
   "cell_type": "code",
   "execution_count": 31,
   "metadata": {},
   "outputs": [
    {
     "data": {
      "text/html": [
       "<div>\n",
       "<style scoped>\n",
       "    .dataframe tbody tr th:only-of-type {\n",
       "        vertical-align: middle;\n",
       "    }\n",
       "\n",
       "    .dataframe tbody tr th {\n",
       "        vertical-align: top;\n",
       "    }\n",
       "\n",
       "    .dataframe thead th {\n",
       "        text-align: right;\n",
       "    }\n",
       "</style>\n",
       "<table border=\"1\" class=\"dataframe\">\n",
       "  <thead>\n",
       "    <tr style=\"text-align: right;\">\n",
       "      <th></th>\n",
       "      <th>train_id</th>\n",
       "      <th>name</th>\n",
       "      <th>item_condition_id</th>\n",
       "      <th>category_name</th>\n",
       "      <th>brand_name</th>\n",
       "      <th>price</th>\n",
       "      <th>shipping</th>\n",
       "      <th>item_description</th>\n",
       "      <th>category</th>\n",
       "      <th>subcategory1</th>\n",
       "      <th>subcategory2</th>\n",
       "      <th>Newbrand</th>\n",
       "    </tr>\n",
       "  </thead>\n",
       "  <tbody>\n",
       "    <tr>\n",
       "      <th>0</th>\n",
       "      <td>0</td>\n",
       "      <td>mlb cincinnati reds t shirt size xl</td>\n",
       "      <td>3</td>\n",
       "      <td>men/tops/t-shirts</td>\n",
       "      <td>NaN</td>\n",
       "      <td>10.0</td>\n",
       "      <td>1</td>\n",
       "      <td>No description yet</td>\n",
       "      <td>men</td>\n",
       "      <td>tops</td>\n",
       "      <td>t-shirts</td>\n",
       "      <td>mlb</td>\n",
       "    </tr>\n",
       "    <tr>\n",
       "      <th>1</th>\n",
       "      <td>1</td>\n",
       "      <td>razer blackwidow chroma keyboard</td>\n",
       "      <td>3</td>\n",
       "      <td>electronics/computers &amp; tablets/components &amp; p...</td>\n",
       "      <td>razer</td>\n",
       "      <td>52.0</td>\n",
       "      <td>0</td>\n",
       "      <td>This keyboard is in great condition and works ...</td>\n",
       "      <td>electronics</td>\n",
       "      <td>computers &amp; tablets</td>\n",
       "      <td>components &amp; parts</td>\n",
       "      <td>razer</td>\n",
       "    </tr>\n",
       "    <tr>\n",
       "      <th>2</th>\n",
       "      <td>2</td>\n",
       "      <td>ava-viv blouse</td>\n",
       "      <td>1</td>\n",
       "      <td>women/tops &amp; blouses/blouse</td>\n",
       "      <td>target</td>\n",
       "      <td>10.0</td>\n",
       "      <td>1</td>\n",
       "      <td>Adorable top with a hint of lace and a key hol...</td>\n",
       "      <td>women</td>\n",
       "      <td>tops &amp; blouses</td>\n",
       "      <td>blouse</td>\n",
       "      <td>None</td>\n",
       "    </tr>\n",
       "    <tr>\n",
       "      <th>3</th>\n",
       "      <td>3</td>\n",
       "      <td>leather horse statues</td>\n",
       "      <td>1</td>\n",
       "      <td>home/home décor/home décor accents</td>\n",
       "      <td>NaN</td>\n",
       "      <td>35.0</td>\n",
       "      <td>1</td>\n",
       "      <td>New with tags. Leather horses. Retail for [rm]...</td>\n",
       "      <td>home</td>\n",
       "      <td>home décor</td>\n",
       "      <td>home décor accents</td>\n",
       "      <td>None</td>\n",
       "    </tr>\n",
       "    <tr>\n",
       "      <th>4</th>\n",
       "      <td>4</td>\n",
       "      <td>24k gold plated rose</td>\n",
       "      <td>1</td>\n",
       "      <td>women/jewelry/necklaces</td>\n",
       "      <td>NaN</td>\n",
       "      <td>44.0</td>\n",
       "      <td>0</td>\n",
       "      <td>Complete with certificate of authenticity</td>\n",
       "      <td>women</td>\n",
       "      <td>jewelry</td>\n",
       "      <td>necklaces</td>\n",
       "      <td>None</td>\n",
       "    </tr>\n",
       "  </tbody>\n",
       "</table>\n",
       "</div>"
      ],
      "text/plain": [
       "   train_id                                 name  item_condition_id  \\\n",
       "0         0  mlb cincinnati reds t shirt size xl                  3   \n",
       "1         1     razer blackwidow chroma keyboard                  3   \n",
       "2         2                       ava-viv blouse                  1   \n",
       "3         3                leather horse statues                  1   \n",
       "4         4                 24k gold plated rose                  1   \n",
       "\n",
       "                                       category_name brand_name  price  \\\n",
       "0                                  men/tops/t-shirts        NaN   10.0   \n",
       "1  electronics/computers & tablets/components & p...      razer   52.0   \n",
       "2                        women/tops & blouses/blouse     target   10.0   \n",
       "3                 home/home décor/home décor accents        NaN   35.0   \n",
       "4                            women/jewelry/necklaces        NaN   44.0   \n",
       "\n",
       "   shipping                                   item_description     category  \\\n",
       "0         1                                 No description yet          men   \n",
       "1         0  This keyboard is in great condition and works ...  electronics   \n",
       "2         1  Adorable top with a hint of lace and a key hol...        women   \n",
       "3         1  New with tags. Leather horses. Retail for [rm]...         home   \n",
       "4         0          Complete with certificate of authenticity        women   \n",
       "\n",
       "          subcategory1        subcategory2 Newbrand  \n",
       "0                 tops            t-shirts      mlb  \n",
       "1  computers & tablets  components & parts    razer  \n",
       "2       tops & blouses              blouse     None  \n",
       "3           home décor  home décor accents     None  \n",
       "4              jewelry           necklaces     None  "
      ]
     },
     "execution_count": 31,
     "metadata": {},
     "output_type": "execute_result"
    }
   ],
   "source": [
    "raw_data.head(5)"
   ]
  },
  {
   "cell_type": "code",
   "execution_count": 32,
   "metadata": {},
   "outputs": [],
   "source": [
    "raw_data['brand_name']=np.where(raw_data['brand_name'].isnull(),raw_data['Newbrand'],raw_data['brand_name'])"
   ]
  },
  {
   "cell_type": "code",
   "execution_count": 33,
   "metadata": {},
   "outputs": [
    {
     "name": "stdout",
     "output_type": "stream",
     "text": [
      "Missing Brand Names : 402781 Percentage :0.2716839737341783\n"
     ]
    }
   ],
   "source": [
    "print(\"Missing Brand Names : {}\".format(raw_data['brand_name'].isnull().sum()),\"Percentage :{}\".format(raw_data['brand_name'].isnull().sum()/raw_data.shape[0]))"
   ]
  },
  {
   "cell_type": "markdown",
   "metadata": {},
   "source": [
    "By imputing brand names from description column we have been able to get NANs down to 27% from 43%"
   ]
  },
  {
   "cell_type": "code",
   "execution_count": 34,
   "metadata": {},
   "outputs": [],
   "source": [
    "raw_data['brand_name'].fillna(value=\"Not Present\", inplace=True)"
   ]
  },
  {
   "cell_type": "code",
   "execution_count": 35,
   "metadata": {},
   "outputs": [
    {
     "data": {
      "text/html": [
       "<div>\n",
       "<style scoped>\n",
       "    .dataframe tbody tr th:only-of-type {\n",
       "        vertical-align: middle;\n",
       "    }\n",
       "\n",
       "    .dataframe tbody tr th {\n",
       "        vertical-align: top;\n",
       "    }\n",
       "\n",
       "    .dataframe thead th {\n",
       "        text-align: right;\n",
       "    }\n",
       "</style>\n",
       "<table border=\"1\" class=\"dataframe\">\n",
       "  <thead>\n",
       "    <tr style=\"text-align: right;\">\n",
       "      <th></th>\n",
       "      <th>train_id</th>\n",
       "      <th>name</th>\n",
       "      <th>item_condition_id</th>\n",
       "      <th>category_name</th>\n",
       "      <th>brand_name</th>\n",
       "      <th>price</th>\n",
       "      <th>shipping</th>\n",
       "      <th>item_description</th>\n",
       "      <th>category</th>\n",
       "      <th>subcategory1</th>\n",
       "      <th>subcategory2</th>\n",
       "      <th>Newbrand</th>\n",
       "    </tr>\n",
       "  </thead>\n",
       "  <tbody>\n",
       "    <tr>\n",
       "      <th>0</th>\n",
       "      <td>0</td>\n",
       "      <td>mlb cincinnati reds t shirt size xl</td>\n",
       "      <td>3</td>\n",
       "      <td>men/tops/t-shirts</td>\n",
       "      <td>mlb</td>\n",
       "      <td>10.0</td>\n",
       "      <td>1</td>\n",
       "      <td>No description yet</td>\n",
       "      <td>men</td>\n",
       "      <td>tops</td>\n",
       "      <td>t-shirts</td>\n",
       "      <td>mlb</td>\n",
       "    </tr>\n",
       "    <tr>\n",
       "      <th>1</th>\n",
       "      <td>1</td>\n",
       "      <td>razer blackwidow chroma keyboard</td>\n",
       "      <td>3</td>\n",
       "      <td>electronics/computers &amp; tablets/components &amp; p...</td>\n",
       "      <td>razer</td>\n",
       "      <td>52.0</td>\n",
       "      <td>0</td>\n",
       "      <td>This keyboard is in great condition and works ...</td>\n",
       "      <td>electronics</td>\n",
       "      <td>computers &amp; tablets</td>\n",
       "      <td>components &amp; parts</td>\n",
       "      <td>razer</td>\n",
       "    </tr>\n",
       "    <tr>\n",
       "      <th>2</th>\n",
       "      <td>2</td>\n",
       "      <td>ava-viv blouse</td>\n",
       "      <td>1</td>\n",
       "      <td>women/tops &amp; blouses/blouse</td>\n",
       "      <td>target</td>\n",
       "      <td>10.0</td>\n",
       "      <td>1</td>\n",
       "      <td>Adorable top with a hint of lace and a key hol...</td>\n",
       "      <td>women</td>\n",
       "      <td>tops &amp; blouses</td>\n",
       "      <td>blouse</td>\n",
       "      <td>None</td>\n",
       "    </tr>\n",
       "    <tr>\n",
       "      <th>3</th>\n",
       "      <td>3</td>\n",
       "      <td>leather horse statues</td>\n",
       "      <td>1</td>\n",
       "      <td>home/home décor/home décor accents</td>\n",
       "      <td>Not Present</td>\n",
       "      <td>35.0</td>\n",
       "      <td>1</td>\n",
       "      <td>New with tags. Leather horses. Retail for [rm]...</td>\n",
       "      <td>home</td>\n",
       "      <td>home décor</td>\n",
       "      <td>home décor accents</td>\n",
       "      <td>None</td>\n",
       "    </tr>\n",
       "    <tr>\n",
       "      <th>4</th>\n",
       "      <td>4</td>\n",
       "      <td>24k gold plated rose</td>\n",
       "      <td>1</td>\n",
       "      <td>women/jewelry/necklaces</td>\n",
       "      <td>Not Present</td>\n",
       "      <td>44.0</td>\n",
       "      <td>0</td>\n",
       "      <td>Complete with certificate of authenticity</td>\n",
       "      <td>women</td>\n",
       "      <td>jewelry</td>\n",
       "      <td>necklaces</td>\n",
       "      <td>None</td>\n",
       "    </tr>\n",
       "  </tbody>\n",
       "</table>\n",
       "</div>"
      ],
      "text/plain": [
       "   train_id                                 name  item_condition_id  \\\n",
       "0         0  mlb cincinnati reds t shirt size xl                  3   \n",
       "1         1     razer blackwidow chroma keyboard                  3   \n",
       "2         2                       ava-viv blouse                  1   \n",
       "3         3                leather horse statues                  1   \n",
       "4         4                 24k gold plated rose                  1   \n",
       "\n",
       "                                       category_name   brand_name  price  \\\n",
       "0                                  men/tops/t-shirts          mlb   10.0   \n",
       "1  electronics/computers & tablets/components & p...        razer   52.0   \n",
       "2                        women/tops & blouses/blouse       target   10.0   \n",
       "3                 home/home décor/home décor accents  Not Present   35.0   \n",
       "4                            women/jewelry/necklaces  Not Present   44.0   \n",
       "\n",
       "   shipping                                   item_description     category  \\\n",
       "0         1                                 No description yet          men   \n",
       "1         0  This keyboard is in great condition and works ...  electronics   \n",
       "2         1  Adorable top with a hint of lace and a key hol...        women   \n",
       "3         1  New with tags. Leather horses. Retail for [rm]...         home   \n",
       "4         0          Complete with certificate of authenticity        women   \n",
       "\n",
       "          subcategory1        subcategory2 Newbrand  \n",
       "0                 tops            t-shirts      mlb  \n",
       "1  computers & tablets  components & parts    razer  \n",
       "2       tops & blouses              blouse     None  \n",
       "3           home décor  home décor accents     None  \n",
       "4              jewelry           necklaces     None  "
      ]
     },
     "execution_count": 35,
     "metadata": {},
     "output_type": "execute_result"
    }
   ],
   "source": [
    "raw_data.head(5)"
   ]
  },
  {
   "cell_type": "code",
   "execution_count": 36,
   "metadata": {},
   "outputs": [
    {
     "data": {
      "text/plain": [
       "Text(0, 0.5, 'Frequency')"
      ]
     },
     "execution_count": 36,
     "metadata": {},
     "output_type": "execute_result"
    },
    {
     "data": {
      "image/png": "[encoded data removed]",
      "text/plain": [
       "<Figure size 432x288 with 1 Axes>"
      ]
     },
     "metadata": {
      "needs_background": "light"
     },
     "output_type": "display_data"
    }
   ],
   "source": [
    "## plotting price\n",
    "sns.distplot(raw_data['price'])\n",
    "plt.title(\"Distribution plot of price\")\n",
    "plt.xlabel(\"Price\")\n",
    "plt.ylabel('Frequency')"
   ]
  },
  {
   "cell_type": "code",
   "execution_count": 37,
   "metadata": {},
   "outputs": [
    {
     "data": {
      "text/plain": [
       "Text(0, 0.5, 'frequency')"
      ]
     },
     "execution_count": 37,
     "metadata": {},
     "output_type": "execute_result"
    },
    {
     "data": {
      "image/png": "[encoded data removed]",
      "text/plain": [
       "<Figure size 432x288 with 1 Axes>"
      ]
     },
     "metadata": {
      "needs_background": "light"
     },
     "output_type": "display_data"
    }
   ],
   "source": [
    "sns.distplot(np.log(raw_data.price+1))\n",
    "plt.title(\"Distribution plot of transformed price\")\n",
    "plt.xlabel(\"log(price)\")\n",
    "plt.ylabel(\"frequency\")"
   ]
  },
  {
   "cell_type": "markdown",
   "metadata": {},
   "source": [
    "As we can see the log transformation on the price gives a more balanced distribution and it corrects the skew."
   ]
  },
  {
   "cell_type": "code",
   "execution_count": 38,
   "metadata": {},
   "outputs": [
    {
     "data": {
      "text/plain": [
       "Text(0.5, 1.0, 'log(pirce) at various item conditions')"
      ]
     },
     "execution_count": 38,
     "metadata": {},
     "output_type": "execute_result"
    },
    {
     "data": {
      "image/png": "[encoded data removed]",
      "text/plain": [
       "<Figure size 432x288 with 1 Axes>"
      ]
     },
     "metadata": {
      "needs_background": "light"
     },
     "output_type": "display_data"
    }
   ],
   "source": [
    "sns.boxplot(x=raw_data['item_condition_id'],y=np.log(raw_data['price']+1))\n",
    "plt.title(\"log(pirce) at various item conditions\")"
   ]
  },
  {
   "cell_type": "markdown",
   "metadata": {},
   "source": [
    "Condition of the product is not really able to distinguish between the price points of product by a huge margin. Item condition 5 has the highest average price however item condition 4 has the lowest average price. it is clear that item condition is following no explainable order in terms of price"
   ]
  },
  {
   "cell_type": "code",
   "execution_count": 39,
   "metadata": {},
   "outputs": [
    {
     "data": {
      "text/plain": [
       "['Not Present', 'pink', 'lularoe', 'nike', \"victoria's secret\"]"
      ]
     },
     "execution_count": 39,
     "metadata": {},
     "output_type": "execute_result"
    }
   ],
   "source": [
    "top_5_brand=raw_data['brand_name'].value_counts()[0:5].index.tolist()\n",
    "top_5_brand"
   ]
  },
  {
   "cell_type": "code",
   "execution_count": 40,
   "metadata": {},
   "outputs": [],
   "source": [
    "top_5_brand_data=raw_data[(raw_data['brand_name']=='pink') | \n",
    "                          (raw_data['brand_name']=='lularoe') |\n",
    "                          (raw_data['brand_name']=='nike') |\n",
    "                         (raw_data['brand_name']==\"victoria's secret\") |\n",
    "                         (raw_data['brand_name']=='apple')]"
   ]
  },
  {
   "cell_type": "code",
   "execution_count": 41,
   "metadata": {},
   "outputs": [
    {
     "data": {
      "text/plain": [
       "Text(0.5, 1.0, 'Log(price) of top 5 most occuring brands')"
      ]
     },
     "execution_count": 41,
     "metadata": {},
     "output_type": "execute_result"
    },
    {
     "data": {
      "image/png": "[encoded data removed]",
      "text/plain": [
       "<Figure size 432x288 with 1 Axes>"
      ]
     },
     "metadata": {
      "needs_background": "light"
     },
     "output_type": "display_data"
    }
   ],
   "source": [
    "sns.boxplot(x=top_5_brand_data['brand_name'],y=np.log(top_5_brand_data['price']+1),data=top_5_brand_data)\n",
    "plt.title(\"Log(price) of top 5 most occuring brands\")"
   ]
  },
  {
   "cell_type": "markdown",
   "metadata": {},
   "source": [
    "brands can possibly help in distinguishing between prices"
   ]
  },
  {
   "cell_type": "code",
   "execution_count": 42,
   "metadata": {},
   "outputs": [
    {
     "data": {
      "text/plain": [
       "Text(0.5, 1.0, 'Log price for different shipping options')"
      ]
     },
     "execution_count": 42,
     "metadata": {},
     "output_type": "execute_result"
    },
    {
     "data": {
      "image/png": "[encoded data removed]",
      "text/plain": [
       "<Figure size 432x288 with 1 Axes>"
      ]
     },
     "metadata": {
      "needs_background": "light"
     },
     "output_type": "display_data"
    }
   ],
   "source": [
    "sns.boxplot(x=raw_data['shipping'],y=np.log(raw_data['price']+1))\n",
    "plt.title(\"Log price for different shipping options\")"
   ]
  },
  {
   "cell_type": "markdown",
   "metadata": {},
   "source": [
    "products where the shipping charges are paid by the seller have a lower price on an average."
   ]
  },
  {
   "cell_type": "code",
   "execution_count": 43,
   "metadata": {},
   "outputs": [
    {
     "name": "stdout",
     "output_type": "stream",
     "text": [
      "Number of unique categories :10 , fill rate : 0.99573230986115\n",
      "Number of unique subcategory1 :113 , fill rate : 0.99573230986115\n",
      "Number of unique subcategory2 :870 , fill rate : 0.99573230986115\n"
     ]
    }
   ],
   "source": [
    "print(\"Number of unique categories :{}\".format(raw_data['category'].nunique()),\", fill rate : {}\".format(1-raw_data['category'].isnull().sum()/raw_data.shape[0]))\n",
    "print(\"Number of unique subcategory1 :{}\".format(raw_data['subcategory1'].nunique()),\", fill rate : {}\".format(1-raw_data['subcategory1'].isnull().sum()/raw_data.shape[0]))\n",
    "print(\"Number of unique subcategory2 :{}\".format(raw_data['subcategory2'].nunique()),\", fill rate : {}\".format(1-raw_data['subcategory2'].isnull().sum()/raw_data.shape[0]))\n"
   ]
  },
  {
   "cell_type": "markdown",
   "metadata": {},
   "source": [
    "all of the brand categories have the same (and very healthy) fill rates"
   ]
  },
  {
   "cell_type": "code",
   "execution_count": 44,
   "metadata": {},
   "outputs": [
    {
     "data": {
      "text/plain": [
       "Text(0.5, 1.0, 'Log(price) for different Categories')"
      ]
     },
     "execution_count": 44,
     "metadata": {},
     "output_type": "execute_result"
    },
    {
     "data": {
      "image/png": "[encoded data removed]",
      "text/plain": [
       "<Figure size 864x432 with 1 Axes>"
      ]
     },
     "metadata": {
      "needs_background": "light"
     },
     "output_type": "display_data"
    }
   ],
   "source": [
    "plt.figure(figsize=(12,6))\n",
    "sns.boxplot(x=raw_data['category'],y=np.log(raw_data['price']+1),)\n",
    "plt.title(\"Log(price) for different Categories\")"
   ]
  },
  {
   "cell_type": "markdown",
   "metadata": {},
   "source": [
    "some category of product prices are easily distinguishable. for example Men products and Hand Made products have a clear distinction in price range"
   ]
  },
  {
   "cell_type": "code",
   "execution_count": 45,
   "metadata": {},
   "outputs": [
    {
     "name": "stdout",
     "output_type": "stream",
     "text": [
      "874\n"
     ]
    },
    {
     "data": {
      "text/html": [
       "<div>\n",
       "<style scoped>\n",
       "    .dataframe tbody tr th:only-of-type {\n",
       "        vertical-align: middle;\n",
       "    }\n",
       "\n",
       "    .dataframe tbody tr th {\n",
       "        vertical-align: top;\n",
       "    }\n",
       "\n",
       "    .dataframe thead th {\n",
       "        text-align: right;\n",
       "    }\n",
       "</style>\n",
       "<table border=\"1\" class=\"dataframe\">\n",
       "  <thead>\n",
       "    <tr style=\"text-align: right;\">\n",
       "      <th></th>\n",
       "      <th>train_id</th>\n",
       "      <th>name</th>\n",
       "      <th>item_condition_id</th>\n",
       "      <th>category_name</th>\n",
       "      <th>brand_name</th>\n",
       "      <th>price</th>\n",
       "      <th>shipping</th>\n",
       "      <th>item_description</th>\n",
       "      <th>category</th>\n",
       "      <th>subcategory1</th>\n",
       "      <th>subcategory2</th>\n",
       "      <th>Newbrand</th>\n",
       "    </tr>\n",
       "  </thead>\n",
       "  <tbody>\n",
       "    <tr>\n",
       "      <th>1325</th>\n",
       "      <td>1325</td>\n",
       "      <td>alabama crimson tide quality lanyard</td>\n",
       "      <td>1</td>\n",
       "      <td>sports &amp; outdoors/fan shop/ncaa</td>\n",
       "      <td>tide</td>\n",
       "      <td>0.0</td>\n",
       "      <td>1</td>\n",
       "      <td>TOP QUALITY THICK LANYARD Reversible sides wit...</td>\n",
       "      <td>sports &amp; outdoors</td>\n",
       "      <td>fan shop</td>\n",
       "      <td>ncaa</td>\n",
       "      <td>tide</td>\n",
       "    </tr>\n",
       "    <tr>\n",
       "      <th>2544</th>\n",
       "      <td>2544</td>\n",
       "      <td>levi leggings</td>\n",
       "      <td>3</td>\n",
       "      <td>women/jeans/slim, skinny</td>\n",
       "      <td>levi's®</td>\n",
       "      <td>0.0</td>\n",
       "      <td>0</td>\n",
       "      <td>Light wash. Hardly worn. Size 24 but fits like...</td>\n",
       "      <td>women</td>\n",
       "      <td>jeans</td>\n",
       "      <td>slim, skinny</td>\n",
       "      <td>None</td>\n",
       "    </tr>\n",
       "    <tr>\n",
       "      <th>2712</th>\n",
       "      <td>2712</td>\n",
       "      <td>simple red lace lingerie top</td>\n",
       "      <td>3</td>\n",
       "      <td>women/underwear/g-strings &amp; thongs</td>\n",
       "      <td>simple</td>\n",
       "      <td>0.0</td>\n",
       "      <td>0</td>\n",
       "      <td>Very simple but cute, a little form fitting as...</td>\n",
       "      <td>women</td>\n",
       "      <td>underwear</td>\n",
       "      <td>g-strings &amp; thongs</td>\n",
       "      <td>simple</td>\n",
       "    </tr>\n",
       "    <tr>\n",
       "      <th>3576</th>\n",
       "      <td>3576</td>\n",
       "      <td>turquoise 15 pc makeup brush set</td>\n",
       "      <td>1</td>\n",
       "      <td>beauty/tools &amp; accessories/makeup brushes &amp; tools</td>\n",
       "      <td>Not Present</td>\n",
       "      <td>0.0</td>\n",
       "      <td>1</td>\n",
       "      <td>1 left!</td>\n",
       "      <td>beauty</td>\n",
       "      <td>tools &amp; accessories</td>\n",
       "      <td>makeup brushes &amp; tools</td>\n",
       "      <td>None</td>\n",
       "    </tr>\n",
       "    <tr>\n",
       "      <th>3761</th>\n",
       "      <td>3761</td>\n",
       "      <td>girls size 7/8</td>\n",
       "      <td>3</td>\n",
       "      <td>kids/girls (4+)/tops &amp; t-shirts</td>\n",
       "      <td>Not Present</td>\n",
       "      <td>0.0</td>\n",
       "      <td>1</td>\n",
       "      <td>5 pair gap jean excellent used condition 3 chi...</td>\n",
       "      <td>kids</td>\n",
       "      <td>girls (4+)</td>\n",
       "      <td>tops &amp; t-shirts</td>\n",
       "      <td>None</td>\n",
       "    </tr>\n",
       "  </tbody>\n",
       "</table>\n",
       "</div>"
      ],
      "text/plain": [
       "      train_id                                  name  item_condition_id  \\\n",
       "1325      1325  alabama crimson tide quality lanyard                  1   \n",
       "2544      2544                         levi leggings                  3   \n",
       "2712      2712          simple red lace lingerie top                  3   \n",
       "3576      3576      turquoise 15 pc makeup brush set                  1   \n",
       "3761      3761                        girls size 7/8                  3   \n",
       "\n",
       "                                          category_name   brand_name  price  \\\n",
       "1325                    sports & outdoors/fan shop/ncaa         tide    0.0   \n",
       "2544                           women/jeans/slim, skinny      levi's®    0.0   \n",
       "2712                 women/underwear/g-strings & thongs       simple    0.0   \n",
       "3576  beauty/tools & accessories/makeup brushes & tools  Not Present    0.0   \n",
       "3761                    kids/girls (4+)/tops & t-shirts  Not Present    0.0   \n",
       "\n",
       "      shipping                                   item_description  \\\n",
       "1325         1  TOP QUALITY THICK LANYARD Reversible sides wit...   \n",
       "2544         0  Light wash. Hardly worn. Size 24 but fits like...   \n",
       "2712         0  Very simple but cute, a little form fitting as...   \n",
       "3576         1                                            1 left!   \n",
       "3761         1  5 pair gap jean excellent used condition 3 chi...   \n",
       "\n",
       "               category         subcategory1            subcategory2 Newbrand  \n",
       "1325  sports & outdoors             fan shop                    ncaa     tide  \n",
       "2544              women                jeans            slim, skinny     None  \n",
       "2712              women            underwear      g-strings & thongs   simple  \n",
       "3576             beauty  tools & accessories  makeup brushes & tools     None  \n",
       "3761               kids           girls (4+)         tops & t-shirts     None  "
      ]
     },
     "execution_count": 45,
     "metadata": {},
     "output_type": "execute_result"
    }
   ],
   "source": [
    "#exploring why some product prices are zeroes\n",
    "print(raw_data[raw_data['price']==0].shape[0])\n",
    "raw_data[raw_data['price']==0].head(5)"
   ]
  },
  {
   "cell_type": "markdown",
   "metadata": {},
   "source": [
    "zero prices seem like a data error. I will exclude these rows from my training data."
   ]
  },
  {
   "cell_type": "code",
   "execution_count": 46,
   "metadata": {},
   "outputs": [],
   "source": [
    "# converting all item descritpion to lower case\n",
    "raw_data['item_description']=raw_data['item_description'].str.lower()"
   ]
  },
  {
   "cell_type": "code",
   "execution_count": 47,
   "metadata": {},
   "outputs": [
    {
     "name": "stdout",
     "output_type": "stream",
     "text": [
      "xl, great condition\n",
      "0.25 oz full size is 1oz for [rm] in sephora\n",
      "jordan iphone case only for iphone 6 plus iphone 6s plus only\n"
     ]
    }
   ],
   "source": [
    "#manually looking at a few descriptions\n",
    "print(raw_data['item_description'][12])\n",
    "print(raw_data['item_description'][10])\n",
    "print(raw_data['item_description'][300])"
   ]
  },
  {
   "cell_type": "code",
   "execution_count": 48,
   "metadata": {},
   "outputs": [
    {
     "data": {
      "text/plain": [
       "4"
      ]
     },
     "execution_count": 48,
     "metadata": {},
     "output_type": "execute_result"
    }
   ],
   "source": [
    "raw_data['item_description'].isnull().sum()"
   ]
  },
  {
   "cell_type": "code",
   "execution_count": 49,
   "metadata": {},
   "outputs": [],
   "source": [
    "## checking if description contains numbers\n",
    "import re\n",
    "\n",
    "def is_combo(column):\n",
    "    numbers = sum(c.isdigit() for c in str(column))\n",
    "    words   = sum(c.isalpha() for c in str(column)) \n",
    "    if numbers>1:\n",
    "        return(1)\n",
    "    else:\n",
    "        return(0)"
   ]
  },
  {
   "cell_type": "code",
   "execution_count": 50,
   "metadata": {},
   "outputs": [],
   "source": [
    "raw_data['is_combo']=raw_data['item_description'].apply(is_combo)"
   ]
  },
  {
   "cell_type": "code",
   "execution_count": 51,
   "metadata": {},
   "outputs": [
    {
     "data": {
      "text/html": [
       "<div>\n",
       "<style scoped>\n",
       "    .dataframe tbody tr th:only-of-type {\n",
       "        vertical-align: middle;\n",
       "    }\n",
       "\n",
       "    .dataframe tbody tr th {\n",
       "        vertical-align: top;\n",
       "    }\n",
       "\n",
       "    .dataframe thead th {\n",
       "        text-align: right;\n",
       "    }\n",
       "</style>\n",
       "<table border=\"1\" class=\"dataframe\">\n",
       "  <thead>\n",
       "    <tr style=\"text-align: right;\">\n",
       "      <th></th>\n",
       "      <th>train_id</th>\n",
       "      <th>name</th>\n",
       "      <th>item_condition_id</th>\n",
       "      <th>category_name</th>\n",
       "      <th>brand_name</th>\n",
       "      <th>price</th>\n",
       "      <th>shipping</th>\n",
       "      <th>item_description</th>\n",
       "      <th>category</th>\n",
       "      <th>subcategory1</th>\n",
       "      <th>subcategory2</th>\n",
       "      <th>Newbrand</th>\n",
       "      <th>is_combo</th>\n",
       "    </tr>\n",
       "  </thead>\n",
       "  <tbody>\n",
       "    <tr>\n",
       "      <th>0</th>\n",
       "      <td>0</td>\n",
       "      <td>mlb cincinnati reds t shirt size xl</td>\n",
       "      <td>3</td>\n",
       "      <td>men/tops/t-shirts</td>\n",
       "      <td>mlb</td>\n",
       "      <td>10.0</td>\n",
       "      <td>1</td>\n",
       "      <td>no description yet</td>\n",
       "      <td>men</td>\n",
       "      <td>tops</td>\n",
       "      <td>t-shirts</td>\n",
       "      <td>mlb</td>\n",
       "      <td>0</td>\n",
       "    </tr>\n",
       "    <tr>\n",
       "      <th>1</th>\n",
       "      <td>1</td>\n",
       "      <td>razer blackwidow chroma keyboard</td>\n",
       "      <td>3</td>\n",
       "      <td>electronics/computers &amp; tablets/components &amp; p...</td>\n",
       "      <td>razer</td>\n",
       "      <td>52.0</td>\n",
       "      <td>0</td>\n",
       "      <td>this keyboard is in great condition and works ...</td>\n",
       "      <td>electronics</td>\n",
       "      <td>computers &amp; tablets</td>\n",
       "      <td>components &amp; parts</td>\n",
       "      <td>razer</td>\n",
       "      <td>0</td>\n",
       "    </tr>\n",
       "    <tr>\n",
       "      <th>2</th>\n",
       "      <td>2</td>\n",
       "      <td>ava-viv blouse</td>\n",
       "      <td>1</td>\n",
       "      <td>women/tops &amp; blouses/blouse</td>\n",
       "      <td>target</td>\n",
       "      <td>10.0</td>\n",
       "      <td>1</td>\n",
       "      <td>adorable top with a hint of lace and a key hol...</td>\n",
       "      <td>women</td>\n",
       "      <td>tops &amp; blouses</td>\n",
       "      <td>blouse</td>\n",
       "      <td>None</td>\n",
       "      <td>1</td>\n",
       "    </tr>\n",
       "    <tr>\n",
       "      <th>3</th>\n",
       "      <td>3</td>\n",
       "      <td>leather horse statues</td>\n",
       "      <td>1</td>\n",
       "      <td>home/home décor/home décor accents</td>\n",
       "      <td>Not Present</td>\n",
       "      <td>35.0</td>\n",
       "      <td>1</td>\n",
       "      <td>new with tags. leather horses. retail for [rm]...</td>\n",
       "      <td>home</td>\n",
       "      <td>home décor</td>\n",
       "      <td>home décor accents</td>\n",
       "      <td>None</td>\n",
       "      <td>0</td>\n",
       "    </tr>\n",
       "    <tr>\n",
       "      <th>4</th>\n",
       "      <td>4</td>\n",
       "      <td>24k gold plated rose</td>\n",
       "      <td>1</td>\n",
       "      <td>women/jewelry/necklaces</td>\n",
       "      <td>Not Present</td>\n",
       "      <td>44.0</td>\n",
       "      <td>0</td>\n",
       "      <td>complete with certificate of authenticity</td>\n",
       "      <td>women</td>\n",
       "      <td>jewelry</td>\n",
       "      <td>necklaces</td>\n",
       "      <td>None</td>\n",
       "      <td>0</td>\n",
       "    </tr>\n",
       "  </tbody>\n",
       "</table>\n",
       "</div>"
      ],
      "text/plain": [
       "   train_id                                 name  item_condition_id  \\\n",
       "0         0  mlb cincinnati reds t shirt size xl                  3   \n",
       "1         1     razer blackwidow chroma keyboard                  3   \n",
       "2         2                       ava-viv blouse                  1   \n",
       "3         3                leather horse statues                  1   \n",
       "4         4                 24k gold plated rose                  1   \n",
       "\n",
       "                                       category_name   brand_name  price  \\\n",
       "0                                  men/tops/t-shirts          mlb   10.0   \n",
       "1  electronics/computers & tablets/components & p...        razer   52.0   \n",
       "2                        women/tops & blouses/blouse       target   10.0   \n",
       "3                 home/home décor/home décor accents  Not Present   35.0   \n",
       "4                            women/jewelry/necklaces  Not Present   44.0   \n",
       "\n",
       "   shipping                                   item_description     category  \\\n",
       "0         1                                 no description yet          men   \n",
       "1         0  this keyboard is in great condition and works ...  electronics   \n",
       "2         1  adorable top with a hint of lace and a key hol...        women   \n",
       "3         1  new with tags. leather horses. retail for [rm]...         home   \n",
       "4         0          complete with certificate of authenticity        women   \n",
       "\n",
       "          subcategory1        subcategory2 Newbrand  is_combo  \n",
       "0                 tops            t-shirts      mlb         0  \n",
       "1  computers & tablets  components & parts    razer         0  \n",
       "2       tops & blouses              blouse     None         1  \n",
       "3           home décor  home décor accents     None         0  \n",
       "4              jewelry           necklaces     None         0  "
      ]
     },
     "execution_count": 51,
     "metadata": {},
     "output_type": "execute_result"
    }
   ],
   "source": [
    "raw_data.head()"
   ]
  },
  {
   "cell_type": "code",
   "execution_count": 52,
   "metadata": {},
   "outputs": [
    {
     "data": {
      "text/plain": [
       "0    959335\n",
       "1    523200\n",
       "Name: is_combo, dtype: int64"
      ]
     },
     "execution_count": 52,
     "metadata": {},
     "output_type": "execute_result"
    }
   ],
   "source": [
    "raw_data['is_combo'].value_counts()"
   ]
  },
  {
   "cell_type": "markdown",
   "metadata": {},
   "source": [
    "523200 products have been marked as combos. looks like a high number"
   ]
  },
  {
   "cell_type": "code",
   "execution_count": 53,
   "metadata": {},
   "outputs": [
    {
     "data": {
      "text/html": [
       "<div>\n",
       "<style scoped>\n",
       "    .dataframe tbody tr th:only-of-type {\n",
       "        vertical-align: middle;\n",
       "    }\n",
       "\n",
       "    .dataframe tbody tr th {\n",
       "        vertical-align: top;\n",
       "    }\n",
       "\n",
       "    .dataframe thead th {\n",
       "        text-align: right;\n",
       "    }\n",
       "</style>\n",
       "<table border=\"1\" class=\"dataframe\">\n",
       "  <thead>\n",
       "    <tr style=\"text-align: right;\">\n",
       "      <th></th>\n",
       "      <th>train_id</th>\n",
       "      <th>name</th>\n",
       "      <th>item_condition_id</th>\n",
       "      <th>category_name</th>\n",
       "      <th>brand_name</th>\n",
       "      <th>price</th>\n",
       "      <th>shipping</th>\n",
       "      <th>item_description</th>\n",
       "      <th>category</th>\n",
       "      <th>subcategory1</th>\n",
       "      <th>subcategory2</th>\n",
       "      <th>Newbrand</th>\n",
       "      <th>is_combo</th>\n",
       "    </tr>\n",
       "  </thead>\n",
       "  <tbody>\n",
       "    <tr>\n",
       "      <th>2</th>\n",
       "      <td>2</td>\n",
       "      <td>ava-viv blouse</td>\n",
       "      <td>1</td>\n",
       "      <td>women/tops &amp; blouses/blouse</td>\n",
       "      <td>target</td>\n",
       "      <td>10.0</td>\n",
       "      <td>1</td>\n",
       "      <td>adorable top with a hint of lace and a key hol...</td>\n",
       "      <td>women</td>\n",
       "      <td>tops &amp; blouses</td>\n",
       "      <td>blouse</td>\n",
       "      <td>None</td>\n",
       "      <td>1</td>\n",
       "    </tr>\n",
       "    <tr>\n",
       "      <th>10</th>\n",
       "      <td>10</td>\n",
       "      <td>smashbox primer</td>\n",
       "      <td>2</td>\n",
       "      <td>beauty/makeup/face</td>\n",
       "      <td>smashbox</td>\n",
       "      <td>8.0</td>\n",
       "      <td>1</td>\n",
       "      <td>0.25 oz full size is 1oz for [rm] in sephora</td>\n",
       "      <td>beauty</td>\n",
       "      <td>makeup</td>\n",
       "      <td>face</td>\n",
       "      <td>smashbox</td>\n",
       "      <td>1</td>\n",
       "    </tr>\n",
       "    <tr>\n",
       "      <th>11</th>\n",
       "      <td>11</td>\n",
       "      <td>new vs pi k body mists</td>\n",
       "      <td>1</td>\n",
       "      <td>beauty/fragrance/women</td>\n",
       "      <td>victoria's secret</td>\n",
       "      <td>34.0</td>\n",
       "      <td>0</td>\n",
       "      <td>(5) new vs pink body mists (2.5 oz each) fresh...</td>\n",
       "      <td>beauty</td>\n",
       "      <td>fragrance</td>\n",
       "      <td>women</td>\n",
       "      <td>None</td>\n",
       "      <td>1</td>\n",
       "    </tr>\n",
       "    <tr>\n",
       "      <th>14</th>\n",
       "      <td>14</td>\n",
       "      <td>hold for dogs2016 minnetonka boots</td>\n",
       "      <td>3</td>\n",
       "      <td>women/shoes/boots</td>\n",
       "      <td>ugg australia</td>\n",
       "      <td>43.0</td>\n",
       "      <td>0</td>\n",
       "      <td>authentic. suede fringe boots. great condition...</td>\n",
       "      <td>women</td>\n",
       "      <td>shoes</td>\n",
       "      <td>boots</td>\n",
       "      <td>minnetonka</td>\n",
       "      <td>1</td>\n",
       "    </tr>\n",
       "    <tr>\n",
       "      <th>15</th>\n",
       "      <td>15</td>\n",
       "      <td>sephora tarte birthday gift</td>\n",
       "      <td>1</td>\n",
       "      <td>beauty/makeup/makeup sets</td>\n",
       "      <td>tarte</td>\n",
       "      <td>11.0</td>\n",
       "      <td>1</td>\n",
       "      <td>brand new. deluxe travel size products. contai...</td>\n",
       "      <td>beauty</td>\n",
       "      <td>makeup</td>\n",
       "      <td>makeup sets</td>\n",
       "      <td>tarte</td>\n",
       "      <td>1</td>\n",
       "    </tr>\n",
       "  </tbody>\n",
       "</table>\n",
       "</div>"
      ],
      "text/plain": [
       "    train_id                                name  item_condition_id  \\\n",
       "2          2                      ava-viv blouse                  1   \n",
       "10        10                     smashbox primer                  2   \n",
       "11        11              new vs pi k body mists                  1   \n",
       "14        14  hold for dogs2016 minnetonka boots                  3   \n",
       "15        15         sephora tarte birthday gift                  1   \n",
       "\n",
       "                  category_name         brand_name  price  shipping  \\\n",
       "2   women/tops & blouses/blouse             target   10.0         1   \n",
       "10           beauty/makeup/face           smashbox    8.0         1   \n",
       "11       beauty/fragrance/women  victoria's secret   34.0         0   \n",
       "14            women/shoes/boots      ugg australia   43.0         0   \n",
       "15    beauty/makeup/makeup sets              tarte   11.0         1   \n",
       "\n",
       "                                     item_description category  \\\n",
       "2   adorable top with a hint of lace and a key hol...    women   \n",
       "10       0.25 oz full size is 1oz for [rm] in sephora   beauty   \n",
       "11  (5) new vs pink body mists (2.5 oz each) fresh...   beauty   \n",
       "14  authentic. suede fringe boots. great condition...    women   \n",
       "15  brand new. deluxe travel size products. contai...   beauty   \n",
       "\n",
       "      subcategory1 subcategory2    Newbrand  is_combo  \n",
       "2   tops & blouses       blouse        None         1  \n",
       "10          makeup         face    smashbox         1  \n",
       "11       fragrance        women        None         1  \n",
       "14           shoes        boots  minnetonka         1  \n",
       "15          makeup  makeup sets       tarte         1  "
      ]
     },
     "execution_count": 53,
     "metadata": {},
     "output_type": "execute_result"
    }
   ],
   "source": [
    "raw_data[raw_data['is_combo']==1].head(5)"
   ]
  },
  {
   "cell_type": "code",
   "execution_count": 54,
   "metadata": {},
   "outputs": [
    {
     "data": {
      "text/plain": [
       "\"authentic. suede fringe boots. great condition! size 7. if you are between the sizes 5.5-7 and love wearing thick socks during the winter they'd be perfect for you as well (i did last winter) :)\""
      ]
     },
     "execution_count": 54,
     "metadata": {},
     "output_type": "execute_result"
    }
   ],
   "source": [
    "raw_data['item_description'][14]"
   ]
  },
  {
   "cell_type": "code",
   "execution_count": 55,
   "metadata": {},
   "outputs": [
    {
     "data": {
      "text/plain": [
       "'brand new. deluxe travel size products. contains: amazonian clay 12 hour blush in paaarty - .05oz/1.5g tarteist lip paint in birthday suit - .034oz/1ml'"
      ]
     },
     "execution_count": 55,
     "metadata": {},
     "output_type": "execute_result"
    }
   ],
   "source": [
    "raw_data['item_description'][15]"
   ]
  },
  {
   "cell_type": "code",
   "execution_count": 56,
   "metadata": {},
   "outputs": [
    {
     "data": {
      "text/plain": [
       "<matplotlib.axes._subplots.AxesSubplot at 0x7f17e0b152e8>"
      ]
     },
     "execution_count": 56,
     "metadata": {},
     "output_type": "execute_result"
    },
    {
     "data": {
      "image/png": "[encoded data removed]",
      "text/plain": [
       "<Figure size 432x288 with 1 Axes>"
      ]
     },
     "metadata": {
      "needs_background": "light"
     },
     "output_type": "display_data"
    }
   ],
   "source": [
    "sns.boxplot(x=raw_data['is_combo'],y=np.log(raw_data['price']+1))"
   ]
  },
  {
   "cell_type": "markdown",
   "metadata": {},
   "source": [
    "in some cases the logic is able to catch combo products, where as in some cases it is misclassifing single products as combo. This variable will have a lot of erroneous points and will introduce unnecessary noise in the data. The box plot also shows that the categorization we have done has not been able to generate a tellable difference in the price of both categories. hence we will be droppig the variable. "
   ]
  },
  {
   "cell_type": "code",
   "execution_count": 57,
   "metadata": {},
   "outputs": [],
   "source": [
    "raw_data_zero_price_removed=raw_data[raw_data.price!=0]"
   ]
  },
  {
   "cell_type": "code",
   "execution_count": 58,
   "metadata": {},
   "outputs": [
    {
     "data": {
      "text/plain": [
       "(1481661, 13)"
      ]
     },
     "execution_count": 58,
     "metadata": {},
     "output_type": "execute_result"
    }
   ],
   "source": [
    "raw_data_zero_price_removed.shape"
   ]
  },
  {
   "cell_type": "code",
   "execution_count": 59,
   "metadata": {},
   "outputs": [
    {
     "data": {
      "text/plain": [
       "4"
      ]
     },
     "execution_count": 59,
     "metadata": {},
     "output_type": "execute_result"
    }
   ],
   "source": [
    "raw_data_zero_price_removed.item_description.isnull().sum()"
   ]
  },
  {
   "cell_type": "code",
   "execution_count": 60,
   "metadata": {},
   "outputs": [
    {
     "name": "stderr",
     "output_type": "stream",
     "text": [
      "/opt/conda/lib/python3.6/site-packages/pandas/core/generic.py:6287: SettingWithCopyWarning: \n",
      "A value is trying to be set on a copy of a slice from a DataFrame\n",
      "\n",
      "See the caveats in the documentation: http://pandas.pydata.org/pandas-docs/stable/user_guide/indexing.html#returning-a-view-versus-a-copy\n",
      "  self._update_inplace(new_data)\n"
     ]
    }
   ],
   "source": [
    "raw_data_zero_price_removed['item_description'].fillna(value='Not Present',inplace=True)"
   ]
  },
  {
   "cell_type": "code",
   "execution_count": 61,
   "metadata": {},
   "outputs": [
    {
     "data": {
      "text/plain": [
       "0"
      ]
     },
     "execution_count": 61,
     "metadata": {},
     "output_type": "execute_result"
    }
   ],
   "source": [
    "raw_data_zero_price_removed.item_description.isnull().sum()"
   ]
  },
  {
   "cell_type": "code",
   "execution_count": 62,
   "metadata": {},
   "outputs": [
    {
     "data": {
      "text/plain": [
       "(4, 13)"
      ]
     },
     "execution_count": 62,
     "metadata": {},
     "output_type": "execute_result"
    }
   ],
   "source": [
    "raw_data_zero_price_removed[raw_data_zero_price_removed['item_description']=='Not Present'].shape"
   ]
  },
  {
   "cell_type": "code",
   "execution_count": 63,
   "metadata": {},
   "outputs": [
    {
     "data": {
      "text/plain": [
       "(1481661, 13)"
      ]
     },
     "execution_count": 63,
     "metadata": {},
     "output_type": "execute_result"
    }
   ],
   "source": [
    "raw_data_zero_price_removed.shape"
   ]
  },
  {
   "cell_type": "code",
   "execution_count": 64,
   "metadata": {},
   "outputs": [
    {
     "data": {
      "text/html": [
       "<div>\n",
       "<style scoped>\n",
       "    .dataframe tbody tr th:only-of-type {\n",
       "        vertical-align: middle;\n",
       "    }\n",
       "\n",
       "    .dataframe tbody tr th {\n",
       "        vertical-align: top;\n",
       "    }\n",
       "\n",
       "    .dataframe thead th {\n",
       "        text-align: right;\n",
       "    }\n",
       "</style>\n",
       "<table border=\"1\" class=\"dataframe\">\n",
       "  <thead>\n",
       "    <tr style=\"text-align: right;\">\n",
       "      <th></th>\n",
       "      <th>train_id</th>\n",
       "      <th>name</th>\n",
       "      <th>item_condition_id</th>\n",
       "      <th>category_name</th>\n",
       "      <th>brand_name</th>\n",
       "      <th>price</th>\n",
       "      <th>shipping</th>\n",
       "      <th>item_description</th>\n",
       "      <th>category</th>\n",
       "      <th>subcategory1</th>\n",
       "      <th>subcategory2</th>\n",
       "      <th>Newbrand</th>\n",
       "      <th>is_combo</th>\n",
       "    </tr>\n",
       "  </thead>\n",
       "  <tbody>\n",
       "    <tr>\n",
       "      <th>0</th>\n",
       "      <td>0</td>\n",
       "      <td>mlb cincinnati reds t shirt size xl</td>\n",
       "      <td>3</td>\n",
       "      <td>men/tops/t-shirts</td>\n",
       "      <td>mlb</td>\n",
       "      <td>10.0</td>\n",
       "      <td>1</td>\n",
       "      <td>no description yet</td>\n",
       "      <td>men</td>\n",
       "      <td>tops</td>\n",
       "      <td>t-shirts</td>\n",
       "      <td>mlb</td>\n",
       "      <td>0</td>\n",
       "    </tr>\n",
       "    <tr>\n",
       "      <th>1</th>\n",
       "      <td>1</td>\n",
       "      <td>razer blackwidow chroma keyboard</td>\n",
       "      <td>3</td>\n",
       "      <td>electronics/computers &amp; tablets/components &amp; p...</td>\n",
       "      <td>razer</td>\n",
       "      <td>52.0</td>\n",
       "      <td>0</td>\n",
       "      <td>this keyboard is in great condition and works ...</td>\n",
       "      <td>electronics</td>\n",
       "      <td>computers &amp; tablets</td>\n",
       "      <td>components &amp; parts</td>\n",
       "      <td>razer</td>\n",
       "      <td>0</td>\n",
       "    </tr>\n",
       "  </tbody>\n",
       "</table>\n",
       "</div>"
      ],
      "text/plain": [
       "   train_id                                 name  item_condition_id  \\\n",
       "0         0  mlb cincinnati reds t shirt size xl                  3   \n",
       "1         1     razer blackwidow chroma keyboard                  3   \n",
       "\n",
       "                                       category_name brand_name  price  \\\n",
       "0                                  men/tops/t-shirts        mlb   10.0   \n",
       "1  electronics/computers & tablets/components & p...      razer   52.0   \n",
       "\n",
       "   shipping                                   item_description     category  \\\n",
       "0         1                                 no description yet          men   \n",
       "1         0  this keyboard is in great condition and works ...  electronics   \n",
       "\n",
       "          subcategory1        subcategory2 Newbrand  is_combo  \n",
       "0                 tops            t-shirts      mlb         0  \n",
       "1  computers & tablets  components & parts    razer         0  "
      ]
     },
     "execution_count": 64,
     "metadata": {},
     "output_type": "execute_result"
    }
   ],
   "source": [
    "raw_data_zero_price_removed.head(2)"
   ]
  },
  {
   "cell_type": "code",
   "execution_count": 65,
   "metadata": {},
   "outputs": [
    {
     "name": "stderr",
     "output_type": "stream",
     "text": [
      "/opt/conda/lib/python3.6/site-packages/ipykernel_launcher.py:1: SettingWithCopyWarning: \n",
      "A value is trying to be set on a copy of a slice from a DataFrame.\n",
      "Try using .loc[row_indexer,col_indexer] = value instead\n",
      "\n",
      "See the caveats in the documentation: http://pandas.pydata.org/pandas-docs/stable/user_guide/indexing.html#returning-a-view-versus-a-copy\n",
      "  \"\"\"Entry point for launching an IPython kernel.\n"
     ]
    }
   ],
   "source": [
    "raw_data_zero_price_removed['brand_length']=raw_data_zero_price_removed['brand_name'].str.len()"
   ]
  },
  {
   "cell_type": "code",
   "execution_count": 66,
   "metadata": {},
   "outputs": [
    {
     "name": "stderr",
     "output_type": "stream",
     "text": [
      "/opt/conda/lib/python3.6/site-packages/ipykernel_launcher.py:1: SettingWithCopyWarning: \n",
      "A value is trying to be set on a copy of a slice from a DataFrame.\n",
      "Try using .loc[row_indexer,col_indexer] = value instead\n",
      "\n",
      "See the caveats in the documentation: http://pandas.pydata.org/pandas-docs/stable/user_guide/indexing.html#returning-a-view-versus-a-copy\n",
      "  \"\"\"Entry point for launching an IPython kernel.\n"
     ]
    }
   ],
   "source": [
    "raw_data_zero_price_removed['name_length']=raw_data_zero_price_removed['name'].str.len()"
   ]
  },
  {
   "cell_type": "code",
   "execution_count": 67,
   "metadata": {},
   "outputs": [
    {
     "name": "stderr",
     "output_type": "stream",
     "text": [
      "/opt/conda/lib/python3.6/site-packages/ipykernel_launcher.py:1: SettingWithCopyWarning: \n",
      "A value is trying to be set on a copy of a slice from a DataFrame.\n",
      "Try using .loc[row_indexer,col_indexer] = value instead\n",
      "\n",
      "See the caveats in the documentation: http://pandas.pydata.org/pandas-docs/stable/user_guide/indexing.html#returning-a-view-versus-a-copy\n",
      "  \"\"\"Entry point for launching an IPython kernel.\n"
     ]
    }
   ],
   "source": [
    "raw_data_zero_price_removed['desc_length']=raw_data_zero_price_removed['item_description'].str.len()"
   ]
  },
  {
   "cell_type": "code",
   "execution_count": 68,
   "metadata": {},
   "outputs": [
    {
     "data": {
      "text/html": [
       "<div>\n",
       "<style scoped>\n",
       "    .dataframe tbody tr th:only-of-type {\n",
       "        vertical-align: middle;\n",
       "    }\n",
       "\n",
       "    .dataframe tbody tr th {\n",
       "        vertical-align: top;\n",
       "    }\n",
       "\n",
       "    .dataframe thead th {\n",
       "        text-align: right;\n",
       "    }\n",
       "</style>\n",
       "<table border=\"1\" class=\"dataframe\">\n",
       "  <thead>\n",
       "    <tr style=\"text-align: right;\">\n",
       "      <th></th>\n",
       "      <th>train_id</th>\n",
       "      <th>name</th>\n",
       "      <th>item_condition_id</th>\n",
       "      <th>category_name</th>\n",
       "      <th>brand_name</th>\n",
       "      <th>price</th>\n",
       "      <th>shipping</th>\n",
       "      <th>item_description</th>\n",
       "      <th>category</th>\n",
       "      <th>subcategory1</th>\n",
       "      <th>subcategory2</th>\n",
       "      <th>Newbrand</th>\n",
       "      <th>is_combo</th>\n",
       "      <th>brand_length</th>\n",
       "      <th>name_length</th>\n",
       "      <th>desc_length</th>\n",
       "    </tr>\n",
       "  </thead>\n",
       "  <tbody>\n",
       "    <tr>\n",
       "      <th>0</th>\n",
       "      <td>0</td>\n",
       "      <td>mlb cincinnati reds t shirt size xl</td>\n",
       "      <td>3</td>\n",
       "      <td>men/tops/t-shirts</td>\n",
       "      <td>mlb</td>\n",
       "      <td>10.0</td>\n",
       "      <td>1</td>\n",
       "      <td>no description yet</td>\n",
       "      <td>men</td>\n",
       "      <td>tops</td>\n",
       "      <td>t-shirts</td>\n",
       "      <td>mlb</td>\n",
       "      <td>0</td>\n",
       "      <td>3</td>\n",
       "      <td>35</td>\n",
       "      <td>18</td>\n",
       "    </tr>\n",
       "    <tr>\n",
       "      <th>1</th>\n",
       "      <td>1</td>\n",
       "      <td>razer blackwidow chroma keyboard</td>\n",
       "      <td>3</td>\n",
       "      <td>electronics/computers &amp; tablets/components &amp; p...</td>\n",
       "      <td>razer</td>\n",
       "      <td>52.0</td>\n",
       "      <td>0</td>\n",
       "      <td>this keyboard is in great condition and works ...</td>\n",
       "      <td>electronics</td>\n",
       "      <td>computers &amp; tablets</td>\n",
       "      <td>components &amp; parts</td>\n",
       "      <td>razer</td>\n",
       "      <td>0</td>\n",
       "      <td>5</td>\n",
       "      <td>32</td>\n",
       "      <td>188</td>\n",
       "    </tr>\n",
       "  </tbody>\n",
       "</table>\n",
       "</div>"
      ],
      "text/plain": [
       "   train_id                                 name  item_condition_id  \\\n",
       "0         0  mlb cincinnati reds t shirt size xl                  3   \n",
       "1         1     razer blackwidow chroma keyboard                  3   \n",
       "\n",
       "                                       category_name brand_name  price  \\\n",
       "0                                  men/tops/t-shirts        mlb   10.0   \n",
       "1  electronics/computers & tablets/components & p...      razer   52.0   \n",
       "\n",
       "   shipping                                   item_description     category  \\\n",
       "0         1                                 no description yet          men   \n",
       "1         0  this keyboard is in great condition and works ...  electronics   \n",
       "\n",
       "          subcategory1        subcategory2 Newbrand  is_combo  brand_length  \\\n",
       "0                 tops            t-shirts      mlb         0             3   \n",
       "1  computers & tablets  components & parts    razer         0             5   \n",
       "\n",
       "   name_length  desc_length  \n",
       "0           35           18  \n",
       "1           32          188  "
      ]
     },
     "execution_count": 68,
     "metadata": {},
     "output_type": "execute_result"
    }
   ],
   "source": [
    "raw_data_zero_price_removed.head(2)"
   ]
  },
  {
   "cell_type": "code",
   "execution_count": 69,
   "metadata": {},
   "outputs": [
    {
     "name": "stdout",
     "output_type": "stream",
     "text": [
      "0.0270579738360066\n"
     ]
    }
   ],
   "source": [
    "from scipy.stats import pearsonr\n",
    "\n",
    "corr,_=pearsonr(raw_data_zero_price_removed['price'],raw_data_zero_price_removed['name_length'])\n",
    "print(corr)"
   ]
  },
  {
   "cell_type": "code",
   "execution_count": 70,
   "metadata": {},
   "outputs": [
    {
     "name": "stdout",
     "output_type": "stream",
     "text": [
      "0.04803919893656168\n"
     ]
    }
   ],
   "source": [
    "corr,_=pearsonr(raw_data_zero_price_removed['price'],raw_data_zero_price_removed['desc_length'])\n",
    "print(corr)"
   ]
  },
  {
   "cell_type": "markdown",
   "metadata": {},
   "source": [
    "There is no correlation between price and length of the description or name"
   ]
  },
  {
   "cell_type": "code",
   "execution_count": 71,
   "metadata": {},
   "outputs": [
    {
     "name": "stderr",
     "output_type": "stream",
     "text": [
      "/opt/conda/lib/python3.6/site-packages/ipykernel_launcher.py:1: SettingWithCopyWarning: \n",
      "A value is trying to be set on a copy of a slice from a DataFrame.\n",
      "Try using .loc[row_indexer,col_indexer] = value instead\n",
      "\n",
      "See the caveats in the documentation: http://pandas.pydata.org/pandas-docs/stable/user_guide/indexing.html#returning-a-view-versus-a-copy\n",
      "  \"\"\"Entry point for launching an IPython kernel.\n"
     ]
    }
   ],
   "source": [
    "raw_data_zero_price_removed['log_price']=np.log(raw_data_zero_price_removed['price']+1)"
   ]
  },
  {
   "cell_type": "code",
   "execution_count": 72,
   "metadata": {},
   "outputs": [
    {
     "data": {
      "text/html": [
       "<div>\n",
       "<style scoped>\n",
       "    .dataframe tbody tr th:only-of-type {\n",
       "        vertical-align: middle;\n",
       "    }\n",
       "\n",
       "    .dataframe tbody tr th {\n",
       "        vertical-align: top;\n",
       "    }\n",
       "\n",
       "    .dataframe thead th {\n",
       "        text-align: right;\n",
       "    }\n",
       "</style>\n",
       "<table border=\"1\" class=\"dataframe\">\n",
       "  <thead>\n",
       "    <tr style=\"text-align: right;\">\n",
       "      <th></th>\n",
       "      <th>train_id</th>\n",
       "      <th>name</th>\n",
       "      <th>item_condition_id</th>\n",
       "      <th>category_name</th>\n",
       "      <th>brand_name</th>\n",
       "      <th>price</th>\n",
       "      <th>shipping</th>\n",
       "      <th>item_description</th>\n",
       "      <th>category</th>\n",
       "      <th>subcategory1</th>\n",
       "      <th>subcategory2</th>\n",
       "      <th>Newbrand</th>\n",
       "      <th>is_combo</th>\n",
       "      <th>brand_length</th>\n",
       "      <th>name_length</th>\n",
       "      <th>desc_length</th>\n",
       "      <th>log_price</th>\n",
       "    </tr>\n",
       "  </thead>\n",
       "  <tbody>\n",
       "    <tr>\n",
       "      <th>0</th>\n",
       "      <td>0</td>\n",
       "      <td>mlb cincinnati reds t shirt size xl</td>\n",
       "      <td>3</td>\n",
       "      <td>men/tops/t-shirts</td>\n",
       "      <td>mlb</td>\n",
       "      <td>10.0</td>\n",
       "      <td>1</td>\n",
       "      <td>no description yet</td>\n",
       "      <td>men</td>\n",
       "      <td>tops</td>\n",
       "      <td>t-shirts</td>\n",
       "      <td>mlb</td>\n",
       "      <td>0</td>\n",
       "      <td>3</td>\n",
       "      <td>35</td>\n",
       "      <td>18</td>\n",
       "      <td>2.397895</td>\n",
       "    </tr>\n",
       "    <tr>\n",
       "      <th>1</th>\n",
       "      <td>1</td>\n",
       "      <td>razer blackwidow chroma keyboard</td>\n",
       "      <td>3</td>\n",
       "      <td>electronics/computers &amp; tablets/components &amp; p...</td>\n",
       "      <td>razer</td>\n",
       "      <td>52.0</td>\n",
       "      <td>0</td>\n",
       "      <td>this keyboard is in great condition and works ...</td>\n",
       "      <td>electronics</td>\n",
       "      <td>computers &amp; tablets</td>\n",
       "      <td>components &amp; parts</td>\n",
       "      <td>razer</td>\n",
       "      <td>0</td>\n",
       "      <td>5</td>\n",
       "      <td>32</td>\n",
       "      <td>188</td>\n",
       "      <td>3.970292</td>\n",
       "    </tr>\n",
       "  </tbody>\n",
       "</table>\n",
       "</div>"
      ],
      "text/plain": [
       "   train_id                                 name  item_condition_id  \\\n",
       "0         0  mlb cincinnati reds t shirt size xl                  3   \n",
       "1         1     razer blackwidow chroma keyboard                  3   \n",
       "\n",
       "                                       category_name brand_name  price  \\\n",
       "0                                  men/tops/t-shirts        mlb   10.0   \n",
       "1  electronics/computers & tablets/components & p...      razer   52.0   \n",
       "\n",
       "   shipping                                   item_description     category  \\\n",
       "0         1                                 no description yet          men   \n",
       "1         0  this keyboard is in great condition and works ...  electronics   \n",
       "\n",
       "          subcategory1        subcategory2 Newbrand  is_combo  brand_length  \\\n",
       "0                 tops            t-shirts      mlb         0             3   \n",
       "1  computers & tablets  components & parts    razer         0             5   \n",
       "\n",
       "   name_length  desc_length  log_price  \n",
       "0           35           18   2.397895  \n",
       "1           32          188   3.970292  "
      ]
     },
     "execution_count": 72,
     "metadata": {},
     "output_type": "execute_result"
    }
   ],
   "source": [
    "raw_data_zero_price_removed.head(2)"
   ]
  },
  {
   "cell_type": "code",
   "execution_count": 73,
   "metadata": {},
   "outputs": [],
   "source": [
    "raw_data_zero_price_removed['category'].fillna(value='Not Present',inplace=True)"
   ]
  },
  {
   "cell_type": "code",
   "execution_count": 74,
   "metadata": {},
   "outputs": [],
   "source": [
    "raw_data_zero_price_removed['subcategory1'].fillna(value='Not Present',inplace=True)\n",
    "raw_data_zero_price_removed['subcategory2'].fillna(value='Not Present',inplace=True)"
   ]
  },
  {
   "cell_type": "code",
   "execution_count": 75,
   "metadata": {},
   "outputs": [
    {
     "data": {
      "text/html": [
       "<div>\n",
       "<style scoped>\n",
       "    .dataframe tbody tr th:only-of-type {\n",
       "        vertical-align: middle;\n",
       "    }\n",
       "\n",
       "    .dataframe tbody tr th {\n",
       "        vertical-align: top;\n",
       "    }\n",
       "\n",
       "    .dataframe thead th {\n",
       "        text-align: right;\n",
       "    }\n",
       "</style>\n",
       "<table border=\"1\" class=\"dataframe\">\n",
       "  <thead>\n",
       "    <tr style=\"text-align: right;\">\n",
       "      <th></th>\n",
       "      <th>train_id</th>\n",
       "      <th>name</th>\n",
       "      <th>item_condition_id</th>\n",
       "      <th>category_name</th>\n",
       "      <th>brand_name</th>\n",
       "      <th>price</th>\n",
       "      <th>shipping</th>\n",
       "      <th>item_description</th>\n",
       "      <th>category</th>\n",
       "      <th>subcategory1</th>\n",
       "      <th>subcategory2</th>\n",
       "      <th>Newbrand</th>\n",
       "      <th>is_combo</th>\n",
       "      <th>brand_length</th>\n",
       "      <th>name_length</th>\n",
       "      <th>desc_length</th>\n",
       "      <th>log_price</th>\n",
       "    </tr>\n",
       "  </thead>\n",
       "  <tbody>\n",
       "  </tbody>\n",
       "</table>\n",
       "</div>"
      ],
      "text/plain": [
       "Empty DataFrame\n",
       "Columns: [train_id, name, item_condition_id, category_name, brand_name, price, shipping, item_description, category, subcategory1, subcategory2, Newbrand, is_combo, brand_length, name_length, desc_length, log_price]\n",
       "Index: []"
      ]
     },
     "execution_count": 75,
     "metadata": {},
     "output_type": "execute_result"
    }
   ],
   "source": [
    "raw_data_zero_price_removed[raw_data_zero_price_removed['category'].isnull()].head(10)"
   ]
  },
  {
   "cell_type": "code",
   "execution_count": 76,
   "metadata": {},
   "outputs": [],
   "source": [
    "y=raw_data_zero_price_removed.log_price\n",
    "x=raw_data_zero_price_removed.drop(['train_id','item_condition_id','category_name','Newbrand','is_combo','name_length','brand_length',\n",
    "'desc_length','log_price'],axis=1)"
   ]
  },
  {
   "cell_type": "code",
   "execution_count": 77,
   "metadata": {},
   "outputs": [],
   "source": [
    "# splitting into train and test\n",
    "from sklearn.model_selection import train_test_split\n",
    "x_train,x_test,y_train,y_test=train_test_split(x,y,test_size=0.2,random_state=0)"
   ]
  },
  {
   "cell_type": "code",
   "execution_count": 78,
   "metadata": {},
   "outputs": [
    {
     "name": "stdout",
     "output_type": "stream",
     "text": [
      "(1185328, 8)\n",
      "(296333, 8)\n",
      "(1185328,)\n",
      "(296333,)\n"
     ]
    }
   ],
   "source": [
    "print(x_train.shape)\n",
    "print(x_test.shape)\n",
    "print(y_train.shape)\n",
    "print(y_test.shape)"
   ]
  },
  {
   "cell_type": "code",
   "execution_count": 79,
   "metadata": {},
   "outputs": [
    {
     "data": {
      "text/html": [
       "<div>\n",
       "<style scoped>\n",
       "    .dataframe tbody tr th:only-of-type {\n",
       "        vertical-align: middle;\n",
       "    }\n",
       "\n",
       "    .dataframe tbody tr th {\n",
       "        vertical-align: top;\n",
       "    }\n",
       "\n",
       "    .dataframe thead th {\n",
       "        text-align: right;\n",
       "    }\n",
       "</style>\n",
       "<table border=\"1\" class=\"dataframe\">\n",
       "  <thead>\n",
       "    <tr style=\"text-align: right;\">\n",
       "      <th></th>\n",
       "      <th>name</th>\n",
       "      <th>brand_name</th>\n",
       "      <th>price</th>\n",
       "      <th>shipping</th>\n",
       "      <th>item_description</th>\n",
       "      <th>category</th>\n",
       "      <th>subcategory1</th>\n",
       "      <th>subcategory2</th>\n",
       "    </tr>\n",
       "  </thead>\n",
       "  <tbody>\n",
       "    <tr>\n",
       "      <th>901879</th>\n",
       "      <td>black nike cortez size 4</td>\n",
       "      <td>nike</td>\n",
       "      <td>18.0</td>\n",
       "      <td>1</td>\n",
       "      <td>size 4. my baby wore once before she was reall...</td>\n",
       "      <td>kids</td>\n",
       "      <td>boys 2t-5t</td>\n",
       "      <td>shoes</td>\n",
       "    </tr>\n",
       "    <tr>\n",
       "      <th>984774</th>\n",
       "      <td>hp pavilion dv5000 dv6000 dv8000 dv9000</td>\n",
       "      <td>hp</td>\n",
       "      <td>11.0</td>\n",
       "      <td>1</td>\n",
       "      <td>hp pavilion dv5000 dv6000 dv8000 dv9000 ac ada...</td>\n",
       "      <td>Not Present</td>\n",
       "      <td>Not Present</td>\n",
       "      <td>Not Present</td>\n",
       "    </tr>\n",
       "  </tbody>\n",
       "</table>\n",
       "</div>"
      ],
      "text/plain": [
       "                                           name brand_name  price  shipping  \\\n",
       "901879                 black nike cortez size 4       nike   18.0         1   \n",
       "984774  hp pavilion dv5000 dv6000 dv8000 dv9000         hp   11.0         1   \n",
       "\n",
       "                                         item_description     category  \\\n",
       "901879  size 4. my baby wore once before she was reall...         kids   \n",
       "984774  hp pavilion dv5000 dv6000 dv8000 dv9000 ac ada...  Not Present   \n",
       "\n",
       "       subcategory1 subcategory2  \n",
       "901879   boys 2t-5t        shoes  \n",
       "984774  Not Present  Not Present  "
      ]
     },
     "execution_count": 79,
     "metadata": {},
     "output_type": "execute_result"
    }
   ],
   "source": [
    "x_train.head(2)"
   ]
  },
  {
   "cell_type": "code",
   "execution_count": 80,
   "metadata": {},
   "outputs": [],
   "source": [
    "def decontracted(phrase):\n",
    "    phrase = re.sub(r\"won't\", \"will not\", phrase)\n",
    "    phrase = re.sub(r\"can\\'t\", \"can not\", phrase)\n",
    "    phrase = re.sub(r\"n\\'t\", \" not\", phrase)\n",
    "    phrase = re.sub(r\"\\'re\", \" are\", phrase)\n",
    "    phrase = re.sub(r\"\\'s\", \" is\", phrase)\n",
    "    phrase = re.sub(r\"\\'d\", \" would\", phrase)\n",
    "    phrase = re.sub(r\"\\'ll\", \" will\", phrase)\n",
    "    phrase = re.sub(r\"\\'t\", \" not\", phrase)\n",
    "    phrase = re.sub(r\"\\'ve\", \" have\", phrase)\n",
    "    phrase = re.sub(r\"\\'m\", \" am\", phrase)\n",
    "    return phrase"
   ]
  },
  {
   "cell_type": "code",
   "execution_count": 81,
   "metadata": {},
   "outputs": [],
   "source": [
    "from nltk.corpus import stopwords\n",
    "stopwords=stopwords.words('english')"
   ]
  },
  {
   "cell_type": "code",
   "execution_count": 82,
   "metadata": {},
   "outputs": [
    {
     "name": "stderr",
     "output_type": "stream",
     "text": [
      "100%|██████████| 1185328/1185328 [00:49<00:00, 24182.28it/s]\n",
      "100%|██████████| 1185328/1185328 [02:14<00:00, 8845.06it/s]\n",
      "100%|██████████| 296333/296333 [00:12<00:00, 24064.72it/s]\n",
      "100%|██████████| 296333/296333 [00:33<00:00, 8933.00it/s]\n"
     ]
    }
   ],
   "source": [
    "len(stopwords)\n",
    "\n",
    "\n",
    "from tqdm import tqdm\n",
    "preprocessed_name_train = []\n",
    "for sentance in tqdm(x_train['name'].values):\n",
    "    sent = decontracted(sentance)\n",
    "    sent = sent.replace('\\\\r', ' ')\n",
    "    sent = sent.replace('\\\\\"', ' ')\n",
    "    sent = sent.replace('\\\\n', ' ')\n",
    "    sent = re.sub('[^A-Za-z0-9]+', ' ', sent)\n",
    "    \n",
    "    sent = ' '.join(e for e in sent.split() if e not in stopwords)\n",
    "    preprocessed_name_train.append(sent.lower().strip())\n",
    "\n",
    "preprocessed_description_train = []\n",
    "for sentance in tqdm(x_train['item_description'].values):\n",
    "    sent = decontracted(sentance)\n",
    "    sent = sent.replace('\\\\r', ' ')\n",
    "    sent = sent.replace('\\\\\"', ' ')\n",
    "    sent = sent.replace('\\\\n', ' ')\n",
    "    sent = re.sub('[^A-Za-z0-9]+', ' ', sent)\n",
    "    \n",
    "    sent = ' '.join(e for e in sent.split() if e not in stopwords)\n",
    "    preprocessed_description_train.append(sent.lower().strip())\n",
    "    \n",
    "preprocessed_name_test = []\n",
    "for sentance in tqdm(x_test['name'].values):\n",
    "    sent = decontracted(sentance)\n",
    "    sent = sent.replace('\\\\r', ' ')\n",
    "    sent = sent.replace('\\\\\"', ' ')\n",
    "    sent = sent.replace('\\\\n', ' ')\n",
    "    sent = re.sub('[^A-Za-z0-9]+', ' ', sent)\n",
    "    \n",
    "    sent = ' '.join(e for e in sent.split() if e not in stopwords)\n",
    "    preprocessed_name_test.append(sent.lower().strip())\n",
    "    \n",
    "preprocessed_description_test = []\n",
    "for sentance in tqdm(x_test['item_description'].values):\n",
    "    sent = decontracted(sentance)\n",
    "    sent = sent.replace('\\\\r', ' ')\n",
    "    sent = sent.replace('\\\\\"', ' ')\n",
    "    sent = sent.replace('\\\\n', ' ')\n",
    "    sent = re.sub('[^A-Za-z0-9]+', ' ', sent)\n",
    "    \n",
    "    sent = ' '.join(e for e in sent.split() if e not in stopwords)\n",
    "    preprocessed_description_test.append(sent.lower().strip())"
   ]
  },
  {
   "cell_type": "code",
   "execution_count": 83,
   "metadata": {},
   "outputs": [
    {
     "name": "stderr",
     "output_type": "stream",
     "text": [
      "100%|██████████| 1185328/1185328 [00:35<00:00, 33233.67it/s]\n",
      "100%|██████████| 296333/296333 [00:08<00:00, 33578.49it/s]\n"
     ]
    }
   ],
   "source": [
    "preprocessed_brand_name_train = []\n",
    "for sentance in tqdm(x_train['brand_name'].values):\n",
    "    sent = decontracted(sentance)\n",
    "    sent = sent.replace('\\\\r', ' ')\n",
    "    sent = sent.replace('\\\\\"', ' ')\n",
    "    sent = sent.replace('\\\\n', ' ')\n",
    "    sent = re.sub('[^A-Za-z0-9]+', ' ', sent)\n",
    "    \n",
    "    sent = ' '.join(e for e in sent.split() if e not in stopwords)\n",
    "    preprocessed_brand_name_train.append(sent.lower().strip())\n",
    "    \n",
    "preprocessed_brand_name_test = []\n",
    "for sentance in tqdm(x_test['brand_name'].values):\n",
    "    sent = decontracted(sentance)\n",
    "    sent = sent.replace('\\\\r', ' ')\n",
    "    sent = sent.replace('\\\\\"', ' ')\n",
    "    sent = sent.replace('\\\\n', ' ')\n",
    "    sent = re.sub('[^A-Za-z0-9]+', ' ', sent)\n",
    "    \n",
    "    sent = ' '.join(e for e in sent.split() if e not in stopwords)\n",
    "    preprocessed_brand_name_test.append(sent.lower().strip())"
   ]
  },
  {
   "cell_type": "code",
   "execution_count": 84,
   "metadata": {},
   "outputs": [],
   "source": [
    "from sklearn.feature_extraction.text import TfidfTransformer\n",
    "from sklearn.feature_extraction.text import TfidfVectorizer"
   ]
  },
  {
   "cell_type": "code",
   "execution_count": 85,
   "metadata": {},
   "outputs": [
    {
     "name": "stdout",
     "output_type": "stream",
     "text": [
      "Shape of matrix after TFIDF vectorizer  (1185328, 20000)\n",
      "Shape of matrix after TFIDF vectorizer  (296333, 20000)\n"
     ]
    }
   ],
   "source": [
    "## TFIDF on names\n",
    "vectorizer_name_tfidf = TfidfVectorizer(min_df=10,max_features=20000,ngram_range=(1,3))\n",
    "name_tfidf_train = vectorizer_name_tfidf.fit_transform(preprocessed_name_train)\n",
    "\n",
    "print(\"Shape of matrix after TFIDF vectorizer \",name_tfidf_train.shape)\n",
    "\n",
    "## TFIDF on name test set\n",
    "name_tfidf_test = vectorizer_name_tfidf.transform(preprocessed_name_test)\n",
    "print(\"Shape of matrix after TFIDF vectorizer \",name_tfidf_test.shape)"
   ]
  },
  {
   "cell_type": "code",
   "execution_count": 86,
   "metadata": {},
   "outputs": [
    {
     "name": "stdout",
     "output_type": "stream",
     "text": [
      "Shape of matrix after TFIDF vectorizer  (1185328, 20000)\n",
      "Shape of matrix after TFIDF vectorizer  (296333, 20000)\n"
     ]
    }
   ],
   "source": [
    "## TFIDF on description\n",
    "vectorizer_desc_tfidf = TfidfVectorizer(min_df=10,max_features=20000,ngram_range=(1,3))\n",
    "desc_tfidf_train = vectorizer_desc_tfidf.fit_transform(preprocessed_description_train)\n",
    "\n",
    "print(\"Shape of matrix after TFIDF vectorizer \",desc_tfidf_train.shape)\n",
    "\n",
    "## TFIDF on description test set\n",
    "desc_tfidf_test = vectorizer_desc_tfidf.transform(preprocessed_description_test)\n",
    "print(\"Shape of matrix after TFIDF vectorizer \",desc_tfidf_test.shape)"
   ]
  },
  {
   "cell_type": "code",
   "execution_count": 87,
   "metadata": {},
   "outputs": [
    {
     "name": "stdout",
     "output_type": "stream",
     "text": [
      "Shape of matrix after TFIDF vectorizer  (1185328, 3294)\n",
      "Shape of matrix after TFIDF vectorizer  (296333, 3294)\n"
     ]
    }
   ],
   "source": [
    "## TFIDF on brand_name\n",
    "vectorizer_brand_name_tfidf = TfidfVectorizer(min_df=10,max_features=10000,ngram_range=(1,3))\n",
    "brand_name_tfidf_train = vectorizer_brand_name_tfidf.fit_transform(preprocessed_brand_name_train)\n",
    "\n",
    "print(\"Shape of matrix after TFIDF vectorizer \",brand_name_tfidf_train.shape)\n",
    "\n",
    "## TFIDF on description test set\n",
    "brand_name_tfidf_test = vectorizer_brand_name_tfidf.transform(preprocessed_brand_name_test)\n",
    "print(\"Shape of matrix after TFIDF vectorizer \",brand_name_tfidf_test.shape)"
   ]
  },
  {
   "cell_type": "code",
   "execution_count": 88,
   "metadata": {},
   "outputs": [],
   "source": [
    "import category_encoders as ce\n",
    "cat_features = ['category', 'subcategory1', 'subcategory2']\n",
    "count_enc = ce.CountEncoder()\n",
    "count_encoded_train = count_enc.fit_transform(x_train[cat_features])\n",
    "count_encoded_test=count_enc.transform(x_test[cat_features])"
   ]
  },
  {
   "cell_type": "code",
   "execution_count": 89,
   "metadata": {},
   "outputs": [],
   "source": [
    "x_train_count_encoded=x_train.join(count_encoded_train.add_suffix(\"_count\"))\n",
    "x_test_count_encoded=x_test.join(count_encoded_test.add_suffix(\"_count\"))"
   ]
  },
  {
   "cell_type": "code",
   "execution_count": 90,
   "metadata": {},
   "outputs": [],
   "source": [
    "x_test_count_encoded['subcategory2_count'].fillna(0,inplace=True)"
   ]
  },
  {
   "cell_type": "code",
   "execution_count": 91,
   "metadata": {},
   "outputs": [
    {
     "data": {
      "text/plain": [
       "name                  0\n",
       "brand_name            0\n",
       "price                 0\n",
       "shipping              0\n",
       "item_description      0\n",
       "category              0\n",
       "subcategory1          0\n",
       "subcategory2          0\n",
       "category_count        0\n",
       "subcategory1_count    0\n",
       "subcategory2_count    0\n",
       "dtype: int64"
      ]
     },
     "execution_count": 91,
     "metadata": {},
     "output_type": "execute_result"
    }
   ],
   "source": [
    "x_test_count_encoded.isnull().sum()"
   ]
  },
  {
   "cell_type": "code",
   "execution_count": 92,
   "metadata": {},
   "outputs": [
    {
     "data": {
      "text/html": [
       "<div>\n",
       "<style scoped>\n",
       "    .dataframe tbody tr th:only-of-type {\n",
       "        vertical-align: middle;\n",
       "    }\n",
       "\n",
       "    .dataframe tbody tr th {\n",
       "        vertical-align: top;\n",
       "    }\n",
       "\n",
       "    .dataframe thead th {\n",
       "        text-align: right;\n",
       "    }\n",
       "</style>\n",
       "<table border=\"1\" class=\"dataframe\">\n",
       "  <thead>\n",
       "    <tr style=\"text-align: right;\">\n",
       "      <th></th>\n",
       "      <th>name</th>\n",
       "      <th>brand_name</th>\n",
       "      <th>price</th>\n",
       "      <th>shipping</th>\n",
       "      <th>item_description</th>\n",
       "      <th>category</th>\n",
       "      <th>subcategory1</th>\n",
       "      <th>subcategory2</th>\n",
       "      <th>category_count</th>\n",
       "      <th>subcategory1_count</th>\n",
       "      <th>subcategory2_count</th>\n",
       "    </tr>\n",
       "  </thead>\n",
       "  <tbody>\n",
       "    <tr>\n",
       "      <th>979365</th>\n",
       "      <td>lularoe black medium irma</td>\n",
       "      <td>lularoe</td>\n",
       "      <td>15.0</td>\n",
       "      <td>1</td>\n",
       "      <td>good used condition. worn and washed per lular...</td>\n",
       "      <td>women</td>\n",
       "      <td>tops &amp; blouses</td>\n",
       "      <td>tunic</td>\n",
       "      <td>530871</td>\n",
       "      <td>85590</td>\n",
       "      <td>6469.0</td>\n",
       "    </tr>\n",
       "    <tr>\n",
       "      <th>256740</th>\n",
       "      <td>tom's girls 12.5</td>\n",
       "      <td>toms</td>\n",
       "      <td>14.0</td>\n",
       "      <td>1</td>\n",
       "      <td>2 pairs tom's pink and black good condition. b...</td>\n",
       "      <td>kids</td>\n",
       "      <td>girls 2t-5t</td>\n",
       "      <td>shoes</td>\n",
       "      <td>137173</td>\n",
       "      <td>14774</td>\n",
       "      <td>25791.0</td>\n",
       "    </tr>\n",
       "  </tbody>\n",
       "</table>\n",
       "</div>"
      ],
      "text/plain": [
       "                             name brand_name  price  shipping  \\\n",
       "979365  lularoe black medium irma    lularoe   15.0         1   \n",
       "256740           tom's girls 12.5       toms   14.0         1   \n",
       "\n",
       "                                         item_description category  \\\n",
       "979365  good used condition. worn and washed per lular...    women   \n",
       "256740  2 pairs tom's pink and black good condition. b...     kids   \n",
       "\n",
       "          subcategory1 subcategory2  category_count  subcategory1_count  \\\n",
       "979365  tops & blouses        tunic          530871               85590   \n",
       "256740     girls 2t-5t        shoes          137173               14774   \n",
       "\n",
       "        subcategory2_count  \n",
       "979365              6469.0  \n",
       "256740             25791.0  "
      ]
     },
     "execution_count": 92,
     "metadata": {},
     "output_type": "execute_result"
    }
   ],
   "source": [
    "x_test_count_encoded.head(2)"
   ]
  },
  {
   "cell_type": "code",
   "execution_count": 93,
   "metadata": {},
   "outputs": [],
   "source": [
    "##brand average price\n",
    "avg_brand_price=pd.DataFrame(x_train_count_encoded.groupby('brand_name',as_index=False)['price'].mean())\n",
    "\n",
    "avg_brand_price['log_price']=np.log(avg_brand_price['price']+1)"
   ]
  },
  {
   "cell_type": "code",
   "execution_count": 94,
   "metadata": {},
   "outputs": [
    {
     "data": {
      "text/html": [
       "<div>\n",
       "<style scoped>\n",
       "    .dataframe tbody tr th:only-of-type {\n",
       "        vertical-align: middle;\n",
       "    }\n",
       "\n",
       "    .dataframe tbody tr th {\n",
       "        vertical-align: top;\n",
       "    }\n",
       "\n",
       "    .dataframe thead th {\n",
       "        text-align: right;\n",
       "    }\n",
       "</style>\n",
       "<table border=\"1\" class=\"dataframe\">\n",
       "  <thead>\n",
       "    <tr style=\"text-align: right;\">\n",
       "      <th></th>\n",
       "      <th>brand_name</th>\n",
       "      <th>price</th>\n",
       "      <th>log_price</th>\n",
       "    </tr>\n",
       "  </thead>\n",
       "  <tbody>\n",
       "    <tr>\n",
       "      <th>0</th>\n",
       "      <td>!it jeans</td>\n",
       "      <td>16.000000</td>\n",
       "      <td>2.833213</td>\n",
       "    </tr>\n",
       "    <tr>\n",
       "      <th>1</th>\n",
       "      <td>% pure</td>\n",
       "      <td>16.104167</td>\n",
       "      <td>2.839322</td>\n",
       "    </tr>\n",
       "  </tbody>\n",
       "</table>\n",
       "</div>"
      ],
      "text/plain": [
       "  brand_name      price  log_price\n",
       "0  !it jeans  16.000000   2.833213\n",
       "1     % pure  16.104167   2.839322"
      ]
     },
     "execution_count": 94,
     "metadata": {},
     "output_type": "execute_result"
    }
   ],
   "source": [
    "avg_brand_price.head(2)"
   ]
  },
  {
   "cell_type": "code",
   "execution_count": 95,
   "metadata": {},
   "outputs": [],
   "source": [
    "#adding average price of each brand in x_train\n",
    "x_train_count_encoded=pd.merge(x_train_count_encoded,avg_brand_price[['brand_name','log_price']],how='left',on='brand_name')"
   ]
  },
  {
   "cell_type": "code",
   "execution_count": 96,
   "metadata": {},
   "outputs": [],
   "source": [
    "x_test_count_encoded=pd.merge(x_test_count_encoded,avg_brand_price[['brand_name','log_price']],how='left',on='brand_name')"
   ]
  },
  {
   "cell_type": "code",
   "execution_count": 97,
   "metadata": {},
   "outputs": [],
   "source": [
    "x_train_count_encoded.rename(columns={'log_price':'avg_brand_price'}, inplace=True)\n",
    "x_test_count_encoded.rename(columns={'log_price':'avg_brand_price'},inplace=True)"
   ]
  },
  {
   "cell_type": "code",
   "execution_count": 98,
   "metadata": {},
   "outputs": [
    {
     "data": {
      "text/html": [
       "<div>\n",
       "<style scoped>\n",
       "    .dataframe tbody tr th:only-of-type {\n",
       "        vertical-align: middle;\n",
       "    }\n",
       "\n",
       "    .dataframe tbody tr th {\n",
       "        vertical-align: top;\n",
       "    }\n",
       "\n",
       "    .dataframe thead th {\n",
       "        text-align: right;\n",
       "    }\n",
       "</style>\n",
       "<table border=\"1\" class=\"dataframe\">\n",
       "  <thead>\n",
       "    <tr style=\"text-align: right;\">\n",
       "      <th></th>\n",
       "      <th>name</th>\n",
       "      <th>brand_name</th>\n",
       "      <th>price</th>\n",
       "      <th>shipping</th>\n",
       "      <th>item_description</th>\n",
       "      <th>category</th>\n",
       "      <th>subcategory1</th>\n",
       "      <th>subcategory2</th>\n",
       "      <th>category_count</th>\n",
       "      <th>subcategory1_count</th>\n",
       "      <th>subcategory2_count</th>\n",
       "      <th>avg_brand_price</th>\n",
       "    </tr>\n",
       "  </thead>\n",
       "  <tbody>\n",
       "    <tr>\n",
       "      <th>0</th>\n",
       "      <td>black nike cortez size 4</td>\n",
       "      <td>nike</td>\n",
       "      <td>18.0</td>\n",
       "      <td>1</td>\n",
       "      <td>size 4. my baby wore once before she was reall...</td>\n",
       "      <td>kids</td>\n",
       "      <td>boys 2t-5t</td>\n",
       "      <td>shoes</td>\n",
       "      <td>137173</td>\n",
       "      <td>11507</td>\n",
       "      <td>25791</td>\n",
       "      <td>3.446652</td>\n",
       "    </tr>\n",
       "    <tr>\n",
       "      <th>1</th>\n",
       "      <td>hp pavilion dv5000 dv6000 dv8000 dv9000</td>\n",
       "      <td>hp</td>\n",
       "      <td>11.0</td>\n",
       "      <td>1</td>\n",
       "      <td>hp pavilion dv5000 dv6000 dv8000 dv9000 ac ada...</td>\n",
       "      <td>Not Present</td>\n",
       "      <td>Not Present</td>\n",
       "      <td>Not Present</td>\n",
       "      <td>5085</td>\n",
       "      <td>5085</td>\n",
       "      <td>5085</td>\n",
       "      <td>4.057824</td>\n",
       "    </tr>\n",
       "  </tbody>\n",
       "</table>\n",
       "</div>"
      ],
      "text/plain": [
       "                                      name brand_name  price  shipping  \\\n",
       "0                 black nike cortez size 4       nike   18.0         1   \n",
       "1  hp pavilion dv5000 dv6000 dv8000 dv9000         hp   11.0         1   \n",
       "\n",
       "                                    item_description     category  \\\n",
       "0  size 4. my baby wore once before she was reall...         kids   \n",
       "1  hp pavilion dv5000 dv6000 dv8000 dv9000 ac ada...  Not Present   \n",
       "\n",
       "  subcategory1 subcategory2  category_count  subcategory1_count  \\\n",
       "0   boys 2t-5t        shoes          137173               11507   \n",
       "1  Not Present  Not Present            5085                5085   \n",
       "\n",
       "   subcategory2_count  avg_brand_price  \n",
       "0               25791         3.446652  \n",
       "1                5085         4.057824  "
      ]
     },
     "execution_count": 98,
     "metadata": {},
     "output_type": "execute_result"
    }
   ],
   "source": [
    "x_train_count_encoded.head(2)"
   ]
  },
  {
   "cell_type": "code",
   "execution_count": 99,
   "metadata": {},
   "outputs": [
    {
     "data": {
      "text/html": [
       "<div>\n",
       "<style scoped>\n",
       "    .dataframe tbody tr th:only-of-type {\n",
       "        vertical-align: middle;\n",
       "    }\n",
       "\n",
       "    .dataframe tbody tr th {\n",
       "        vertical-align: top;\n",
       "    }\n",
       "\n",
       "    .dataframe thead th {\n",
       "        text-align: right;\n",
       "    }\n",
       "</style>\n",
       "<table border=\"1\" class=\"dataframe\">\n",
       "  <thead>\n",
       "    <tr style=\"text-align: right;\">\n",
       "      <th></th>\n",
       "      <th>name</th>\n",
       "      <th>brand_name</th>\n",
       "      <th>price</th>\n",
       "      <th>shipping</th>\n",
       "      <th>item_description</th>\n",
       "      <th>category</th>\n",
       "      <th>subcategory1</th>\n",
       "      <th>subcategory2</th>\n",
       "      <th>category_count</th>\n",
       "      <th>subcategory1_count</th>\n",
       "      <th>subcategory2_count</th>\n",
       "      <th>avg_brand_price</th>\n",
       "    </tr>\n",
       "  </thead>\n",
       "  <tbody>\n",
       "    <tr>\n",
       "      <th>0</th>\n",
       "      <td>lularoe black medium irma</td>\n",
       "      <td>lularoe</td>\n",
       "      <td>15.0</td>\n",
       "      <td>1</td>\n",
       "      <td>good used condition. worn and washed per lular...</td>\n",
       "      <td>women</td>\n",
       "      <td>tops &amp; blouses</td>\n",
       "      <td>tunic</td>\n",
       "      <td>530871</td>\n",
       "      <td>85590</td>\n",
       "      <td>6469.0</td>\n",
       "      <td>3.627642</td>\n",
       "    </tr>\n",
       "    <tr>\n",
       "      <th>1</th>\n",
       "      <td>tom's girls 12.5</td>\n",
       "      <td>toms</td>\n",
       "      <td>14.0</td>\n",
       "      <td>1</td>\n",
       "      <td>2 pairs tom's pink and black good condition. b...</td>\n",
       "      <td>kids</td>\n",
       "      <td>girls 2t-5t</td>\n",
       "      <td>shoes</td>\n",
       "      <td>137173</td>\n",
       "      <td>14774</td>\n",
       "      <td>25791.0</td>\n",
       "      <td>3.152969</td>\n",
       "    </tr>\n",
       "  </tbody>\n",
       "</table>\n",
       "</div>"
      ],
      "text/plain": [
       "                        name brand_name  price  shipping  \\\n",
       "0  lularoe black medium irma    lularoe   15.0         1   \n",
       "1           tom's girls 12.5       toms   14.0         1   \n",
       "\n",
       "                                    item_description category    subcategory1  \\\n",
       "0  good used condition. worn and washed per lular...    women  tops & blouses   \n",
       "1  2 pairs tom's pink and black good condition. b...     kids     girls 2t-5t   \n",
       "\n",
       "  subcategory2  category_count  subcategory1_count  subcategory2_count  \\\n",
       "0        tunic          530871               85590              6469.0   \n",
       "1        shoes          137173               14774             25791.0   \n",
       "\n",
       "   avg_brand_price  \n",
       "0         3.627642  \n",
       "1         3.152969  "
      ]
     },
     "execution_count": 99,
     "metadata": {},
     "output_type": "execute_result"
    }
   ],
   "source": [
    "x_test_count_encoded.head(2)"
   ]
  },
  {
   "cell_type": "code",
   "execution_count": 100,
   "metadata": {},
   "outputs": [],
   "source": [
    "##category average price\n",
    "avg_cat_price=pd.DataFrame(x_train_count_encoded.groupby('category',as_index=False)['price'].mean())"
   ]
  },
  {
   "cell_type": "code",
   "execution_count": 101,
   "metadata": {},
   "outputs": [],
   "source": [
    "avg_cat_price['log_price']=np.log(avg_cat_price['price']+1)"
   ]
  },
  {
   "cell_type": "code",
   "execution_count": 102,
   "metadata": {},
   "outputs": [
    {
     "data": {
      "text/html": [
       "<div>\n",
       "<style scoped>\n",
       "    .dataframe tbody tr th:only-of-type {\n",
       "        vertical-align: middle;\n",
       "    }\n",
       "\n",
       "    .dataframe tbody tr th {\n",
       "        vertical-align: top;\n",
       "    }\n",
       "\n",
       "    .dataframe thead th {\n",
       "        text-align: right;\n",
       "    }\n",
       "</style>\n",
       "<table border=\"1\" class=\"dataframe\">\n",
       "  <thead>\n",
       "    <tr style=\"text-align: right;\">\n",
       "      <th></th>\n",
       "      <th>category</th>\n",
       "      <th>price</th>\n",
       "      <th>log_price</th>\n",
       "    </tr>\n",
       "  </thead>\n",
       "  <tbody>\n",
       "    <tr>\n",
       "      <th>0</th>\n",
       "      <td>Not Present</td>\n",
       "      <td>25.594789</td>\n",
       "      <td>3.280715</td>\n",
       "    </tr>\n",
       "    <tr>\n",
       "      <th>1</th>\n",
       "      <td>beauty</td>\n",
       "      <td>19.657413</td>\n",
       "      <td>3.028074</td>\n",
       "    </tr>\n",
       "    <tr>\n",
       "      <th>2</th>\n",
       "      <td>electronics</td>\n",
       "      <td>35.188395</td>\n",
       "      <td>3.588738</td>\n",
       "    </tr>\n",
       "    <tr>\n",
       "      <th>3</th>\n",
       "      <td>handmade</td>\n",
       "      <td>18.163272</td>\n",
       "      <td>2.952996</td>\n",
       "    </tr>\n",
       "    <tr>\n",
       "      <th>4</th>\n",
       "      <td>home</td>\n",
       "      <td>24.461362</td>\n",
       "      <td>3.237162</td>\n",
       "    </tr>\n",
       "  </tbody>\n",
       "</table>\n",
       "</div>"
      ],
      "text/plain": [
       "      category      price  log_price\n",
       "0  Not Present  25.594789   3.280715\n",
       "1       beauty  19.657413   3.028074\n",
       "2  electronics  35.188395   3.588738\n",
       "3     handmade  18.163272   2.952996\n",
       "4         home  24.461362   3.237162"
      ]
     },
     "execution_count": 102,
     "metadata": {},
     "output_type": "execute_result"
    }
   ],
   "source": [
    "avg_cat_price.head()"
   ]
  },
  {
   "cell_type": "code",
   "execution_count": 103,
   "metadata": {},
   "outputs": [],
   "source": [
    "##updating average category price in train and test\n",
    "#adding average price of each brand in x_train\n",
    "x_train_count_encoded=pd.merge(x_train_count_encoded,avg_cat_price[['category','log_price']],how='left',on='category')\n",
    "\n",
    "x_test_count_encoded=pd.merge(x_test_count_encoded,avg_cat_price[['category','log_price']],how='left',on='category')\n",
    "\n",
    "x_train_count_encoded.rename(columns={'log_price':'avg_cat_price'}, inplace=True)\n",
    "x_test_count_encoded.rename(columns={'log_price':'avg_cat_price'},inplace=True)"
   ]
  },
  {
   "cell_type": "code",
   "execution_count": 104,
   "metadata": {},
   "outputs": [
    {
     "data": {
      "text/html": [
       "<div>\n",
       "<style scoped>\n",
       "    .dataframe tbody tr th:only-of-type {\n",
       "        vertical-align: middle;\n",
       "    }\n",
       "\n",
       "    .dataframe tbody tr th {\n",
       "        vertical-align: top;\n",
       "    }\n",
       "\n",
       "    .dataframe thead th {\n",
       "        text-align: right;\n",
       "    }\n",
       "</style>\n",
       "<table border=\"1\" class=\"dataframe\">\n",
       "  <thead>\n",
       "    <tr style=\"text-align: right;\">\n",
       "      <th></th>\n",
       "      <th>name</th>\n",
       "      <th>brand_name</th>\n",
       "      <th>price</th>\n",
       "      <th>shipping</th>\n",
       "      <th>item_description</th>\n",
       "      <th>category</th>\n",
       "      <th>subcategory1</th>\n",
       "      <th>subcategory2</th>\n",
       "      <th>category_count</th>\n",
       "      <th>subcategory1_count</th>\n",
       "      <th>subcategory2_count</th>\n",
       "      <th>avg_brand_price</th>\n",
       "      <th>avg_cat_price</th>\n",
       "    </tr>\n",
       "  </thead>\n",
       "  <tbody>\n",
       "    <tr>\n",
       "      <th>0</th>\n",
       "      <td>black nike cortez size 4</td>\n",
       "      <td>nike</td>\n",
       "      <td>18.0</td>\n",
       "      <td>1</td>\n",
       "      <td>size 4. my baby wore once before she was reall...</td>\n",
       "      <td>kids</td>\n",
       "      <td>boys 2t-5t</td>\n",
       "      <td>shoes</td>\n",
       "      <td>137173</td>\n",
       "      <td>11507</td>\n",
       "      <td>25791</td>\n",
       "      <td>3.446652</td>\n",
       "      <td>3.076385</td>\n",
       "    </tr>\n",
       "    <tr>\n",
       "      <th>1</th>\n",
       "      <td>hp pavilion dv5000 dv6000 dv8000 dv9000</td>\n",
       "      <td>hp</td>\n",
       "      <td>11.0</td>\n",
       "      <td>1</td>\n",
       "      <td>hp pavilion dv5000 dv6000 dv8000 dv9000 ac ada...</td>\n",
       "      <td>Not Present</td>\n",
       "      <td>Not Present</td>\n",
       "      <td>Not Present</td>\n",
       "      <td>5085</td>\n",
       "      <td>5085</td>\n",
       "      <td>5085</td>\n",
       "      <td>4.057824</td>\n",
       "      <td>3.280715</td>\n",
       "    </tr>\n",
       "  </tbody>\n",
       "</table>\n",
       "</div>"
      ],
      "text/plain": [
       "                                      name brand_name  price  shipping  \\\n",
       "0                 black nike cortez size 4       nike   18.0         1   \n",
       "1  hp pavilion dv5000 dv6000 dv8000 dv9000         hp   11.0         1   \n",
       "\n",
       "                                    item_description     category  \\\n",
       "0  size 4. my baby wore once before she was reall...         kids   \n",
       "1  hp pavilion dv5000 dv6000 dv8000 dv9000 ac ada...  Not Present   \n",
       "\n",
       "  subcategory1 subcategory2  category_count  subcategory1_count  \\\n",
       "0   boys 2t-5t        shoes          137173               11507   \n",
       "1  Not Present  Not Present            5085                5085   \n",
       "\n",
       "   subcategory2_count  avg_brand_price  avg_cat_price  \n",
       "0               25791         3.446652       3.076385  \n",
       "1                5085         4.057824       3.280715  "
      ]
     },
     "execution_count": 104,
     "metadata": {},
     "output_type": "execute_result"
    }
   ],
   "source": [
    "x_train_count_encoded.head(2)"
   ]
  },
  {
   "cell_type": "code",
   "execution_count": 105,
   "metadata": {},
   "outputs": [
    {
     "data": {
      "text/html": [
       "<div>\n",
       "<style scoped>\n",
       "    .dataframe tbody tr th:only-of-type {\n",
       "        vertical-align: middle;\n",
       "    }\n",
       "\n",
       "    .dataframe tbody tr th {\n",
       "        vertical-align: top;\n",
       "    }\n",
       "\n",
       "    .dataframe thead th {\n",
       "        text-align: right;\n",
       "    }\n",
       "</style>\n",
       "<table border=\"1\" class=\"dataframe\">\n",
       "  <thead>\n",
       "    <tr style=\"text-align: right;\">\n",
       "      <th></th>\n",
       "      <th>name</th>\n",
       "      <th>brand_name</th>\n",
       "      <th>price</th>\n",
       "      <th>shipping</th>\n",
       "      <th>item_description</th>\n",
       "      <th>category</th>\n",
       "      <th>subcategory1</th>\n",
       "      <th>subcategory2</th>\n",
       "      <th>category_count</th>\n",
       "      <th>subcategory1_count</th>\n",
       "      <th>subcategory2_count</th>\n",
       "      <th>avg_brand_price</th>\n",
       "      <th>avg_cat_price</th>\n",
       "    </tr>\n",
       "  </thead>\n",
       "  <tbody>\n",
       "    <tr>\n",
       "      <th>0</th>\n",
       "      <td>lularoe black medium irma</td>\n",
       "      <td>lularoe</td>\n",
       "      <td>15.0</td>\n",
       "      <td>1</td>\n",
       "      <td>good used condition. worn and washed per lular...</td>\n",
       "      <td>women</td>\n",
       "      <td>tops &amp; blouses</td>\n",
       "      <td>tunic</td>\n",
       "      <td>530871</td>\n",
       "      <td>85590</td>\n",
       "      <td>6469.0</td>\n",
       "      <td>3.627642</td>\n",
       "      <td>3.395491</td>\n",
       "    </tr>\n",
       "    <tr>\n",
       "      <th>1</th>\n",
       "      <td>tom's girls 12.5</td>\n",
       "      <td>toms</td>\n",
       "      <td>14.0</td>\n",
       "      <td>1</td>\n",
       "      <td>2 pairs tom's pink and black good condition. b...</td>\n",
       "      <td>kids</td>\n",
       "      <td>girls 2t-5t</td>\n",
       "      <td>shoes</td>\n",
       "      <td>137173</td>\n",
       "      <td>14774</td>\n",
       "      <td>25791.0</td>\n",
       "      <td>3.152969</td>\n",
       "      <td>3.076385</td>\n",
       "    </tr>\n",
       "  </tbody>\n",
       "</table>\n",
       "</div>"
      ],
      "text/plain": [
       "                        name brand_name  price  shipping  \\\n",
       "0  lularoe black medium irma    lularoe   15.0         1   \n",
       "1           tom's girls 12.5       toms   14.0         1   \n",
       "\n",
       "                                    item_description category    subcategory1  \\\n",
       "0  good used condition. worn and washed per lular...    women  tops & blouses   \n",
       "1  2 pairs tom's pink and black good condition. b...     kids     girls 2t-5t   \n",
       "\n",
       "  subcategory2  category_count  subcategory1_count  subcategory2_count  \\\n",
       "0        tunic          530871               85590              6469.0   \n",
       "1        shoes          137173               14774             25791.0   \n",
       "\n",
       "   avg_brand_price  avg_cat_price  \n",
       "0         3.627642       3.395491  \n",
       "1         3.152969       3.076385  "
      ]
     },
     "execution_count": 105,
     "metadata": {},
     "output_type": "execute_result"
    }
   ],
   "source": [
    "x_test_count_encoded.head(2)"
   ]
  },
  {
   "cell_type": "code",
   "execution_count": 106,
   "metadata": {},
   "outputs": [],
   "source": [
    "##subcategory average price\n",
    "avg_subcat1_price=pd.DataFrame(x_train_count_encoded.groupby('subcategory1',as_index=False)['price'].mean())\n",
    "\n",
    "avg_subcat1_price['log_price']=np.log(avg_subcat1_price['price']+1)\n",
    "\n",
    "\n",
    "##updating average subcategory price in train and test\n",
    "x_train_count_encoded=pd.merge(x_train_count_encoded,avg_subcat1_price[['subcategory1','log_price']],how='left',on='subcategory1')\n",
    "\n",
    "x_test_count_encoded=pd.merge(x_test_count_encoded,avg_subcat1_price[['subcategory1','log_price']],how='left',on='subcategory1')\n",
    "\n",
    "x_train_count_encoded.rename(columns={'log_price':'avg_subcat1_price'}, inplace=True)\n",
    "x_test_count_encoded.rename(columns={'log_price':'avg_subcat1_price'},inplace=True)"
   ]
  },
  {
   "cell_type": "code",
   "execution_count": 107,
   "metadata": {},
   "outputs": [],
   "source": [
    "##subcategory average price\n",
    "avg_subcat2_price=pd.DataFrame(x_train_count_encoded.groupby('subcategory2',as_index=False)['price'].mean())\n",
    "\n",
    "avg_subcat2_price['log_price']=np.log(avg_subcat2_price['price']+1)\n",
    "\n",
    "\n",
    "##updating average subcategory price in train and test\n",
    "x_train_count_encoded=pd.merge(x_train_count_encoded,avg_subcat2_price[['subcategory2','log_price']],how='left',on='subcategory2')\n",
    "\n",
    "x_test_count_encoded=pd.merge(x_test_count_encoded,avg_subcat2_price[['subcategory2','log_price']],how='left',on='subcategory2')\n",
    "\n",
    "x_train_count_encoded.rename(columns={'log_price':'avg_subcat2_price'}, inplace=True)\n",
    "x_test_count_encoded.rename(columns={'log_price':'avg_subcat2_price'},inplace=True)"
   ]
  },
  {
   "cell_type": "code",
   "execution_count": 108,
   "metadata": {},
   "outputs": [
    {
     "data": {
      "text/html": [
       "<div>\n",
       "<style scoped>\n",
       "    .dataframe tbody tr th:only-of-type {\n",
       "        vertical-align: middle;\n",
       "    }\n",
       "\n",
       "    .dataframe tbody tr th {\n",
       "        vertical-align: top;\n",
       "    }\n",
       "\n",
       "    .dataframe thead th {\n",
       "        text-align: right;\n",
       "    }\n",
       "</style>\n",
       "<table border=\"1\" class=\"dataframe\">\n",
       "  <thead>\n",
       "    <tr style=\"text-align: right;\">\n",
       "      <th></th>\n",
       "      <th>name</th>\n",
       "      <th>brand_name</th>\n",
       "      <th>price</th>\n",
       "      <th>shipping</th>\n",
       "      <th>item_description</th>\n",
       "      <th>category</th>\n",
       "      <th>subcategory1</th>\n",
       "      <th>subcategory2</th>\n",
       "      <th>category_count</th>\n",
       "      <th>subcategory1_count</th>\n",
       "      <th>subcategory2_count</th>\n",
       "      <th>avg_brand_price</th>\n",
       "      <th>avg_cat_price</th>\n",
       "      <th>avg_subcat1_price</th>\n",
       "      <th>avg_subcat2_price</th>\n",
       "    </tr>\n",
       "  </thead>\n",
       "  <tbody>\n",
       "    <tr>\n",
       "      <th>0</th>\n",
       "      <td>black nike cortez size 4</td>\n",
       "      <td>nike</td>\n",
       "      <td>18.0</td>\n",
       "      <td>1</td>\n",
       "      <td>size 4. my baby wore once before she was reall...</td>\n",
       "      <td>kids</td>\n",
       "      <td>boys 2t-5t</td>\n",
       "      <td>shoes</td>\n",
       "      <td>137173</td>\n",
       "      <td>11507</td>\n",
       "      <td>25791</td>\n",
       "      <td>3.446652</td>\n",
       "      <td>3.076385</td>\n",
       "      <td>2.981968</td>\n",
       "      <td>3.252362</td>\n",
       "    </tr>\n",
       "    <tr>\n",
       "      <th>1</th>\n",
       "      <td>hp pavilion dv5000 dv6000 dv8000 dv9000</td>\n",
       "      <td>hp</td>\n",
       "      <td>11.0</td>\n",
       "      <td>1</td>\n",
       "      <td>hp pavilion dv5000 dv6000 dv8000 dv9000 ac ada...</td>\n",
       "      <td>Not Present</td>\n",
       "      <td>Not Present</td>\n",
       "      <td>Not Present</td>\n",
       "      <td>5085</td>\n",
       "      <td>5085</td>\n",
       "      <td>5085</td>\n",
       "      <td>4.057824</td>\n",
       "      <td>3.280715</td>\n",
       "      <td>3.280715</td>\n",
       "      <td>3.280715</td>\n",
       "    </tr>\n",
       "  </tbody>\n",
       "</table>\n",
       "</div>"
      ],
      "text/plain": [
       "                                      name brand_name  price  shipping  \\\n",
       "0                 black nike cortez size 4       nike   18.0         1   \n",
       "1  hp pavilion dv5000 dv6000 dv8000 dv9000         hp   11.0         1   \n",
       "\n",
       "                                    item_description     category  \\\n",
       "0  size 4. my baby wore once before she was reall...         kids   \n",
       "1  hp pavilion dv5000 dv6000 dv8000 dv9000 ac ada...  Not Present   \n",
       "\n",
       "  subcategory1 subcategory2  category_count  subcategory1_count  \\\n",
       "0   boys 2t-5t        shoes          137173               11507   \n",
       "1  Not Present  Not Present            5085                5085   \n",
       "\n",
       "   subcategory2_count  avg_brand_price  avg_cat_price  avg_subcat1_price  \\\n",
       "0               25791         3.446652       3.076385           2.981968   \n",
       "1                5085         4.057824       3.280715           3.280715   \n",
       "\n",
       "   avg_subcat2_price  \n",
       "0           3.252362  \n",
       "1           3.280715  "
      ]
     },
     "execution_count": 108,
     "metadata": {},
     "output_type": "execute_result"
    }
   ],
   "source": [
    "x_train_count_encoded.head(2)"
   ]
  },
  {
   "cell_type": "code",
   "execution_count": 109,
   "metadata": {},
   "outputs": [
    {
     "data": {
      "text/html": [
       "<div>\n",
       "<style scoped>\n",
       "    .dataframe tbody tr th:only-of-type {\n",
       "        vertical-align: middle;\n",
       "    }\n",
       "\n",
       "    .dataframe tbody tr th {\n",
       "        vertical-align: top;\n",
       "    }\n",
       "\n",
       "    .dataframe thead th {\n",
       "        text-align: right;\n",
       "    }\n",
       "</style>\n",
       "<table border=\"1\" class=\"dataframe\">\n",
       "  <thead>\n",
       "    <tr style=\"text-align: right;\">\n",
       "      <th></th>\n",
       "      <th>name</th>\n",
       "      <th>brand_name</th>\n",
       "      <th>price</th>\n",
       "      <th>shipping</th>\n",
       "      <th>item_description</th>\n",
       "      <th>category</th>\n",
       "      <th>subcategory1</th>\n",
       "      <th>subcategory2</th>\n",
       "      <th>category_count</th>\n",
       "      <th>subcategory1_count</th>\n",
       "      <th>subcategory2_count</th>\n",
       "      <th>avg_brand_price</th>\n",
       "      <th>avg_cat_price</th>\n",
       "      <th>avg_subcat1_price</th>\n",
       "      <th>avg_subcat2_price</th>\n",
       "    </tr>\n",
       "  </thead>\n",
       "  <tbody>\n",
       "    <tr>\n",
       "      <th>0</th>\n",
       "      <td>lularoe black medium irma</td>\n",
       "      <td>lularoe</td>\n",
       "      <td>15.0</td>\n",
       "      <td>1</td>\n",
       "      <td>good used condition. worn and washed per lular...</td>\n",
       "      <td>women</td>\n",
       "      <td>tops &amp; blouses</td>\n",
       "      <td>tunic</td>\n",
       "      <td>530871</td>\n",
       "      <td>85590</td>\n",
       "      <td>6469.0</td>\n",
       "      <td>3.627642</td>\n",
       "      <td>3.395491</td>\n",
       "      <td>2.959278</td>\n",
       "      <td>3.379576</td>\n",
       "    </tr>\n",
       "    <tr>\n",
       "      <th>1</th>\n",
       "      <td>tom's girls 12.5</td>\n",
       "      <td>toms</td>\n",
       "      <td>14.0</td>\n",
       "      <td>1</td>\n",
       "      <td>2 pairs tom's pink and black good condition. b...</td>\n",
       "      <td>kids</td>\n",
       "      <td>girls 2t-5t</td>\n",
       "      <td>shoes</td>\n",
       "      <td>137173</td>\n",
       "      <td>14774</td>\n",
       "      <td>25791.0</td>\n",
       "      <td>3.152969</td>\n",
       "      <td>3.076385</td>\n",
       "      <td>2.948304</td>\n",
       "      <td>3.252362</td>\n",
       "    </tr>\n",
       "  </tbody>\n",
       "</table>\n",
       "</div>"
      ],
      "text/plain": [
       "                        name brand_name  price  shipping  \\\n",
       "0  lularoe black medium irma    lularoe   15.0         1   \n",
       "1           tom's girls 12.5       toms   14.0         1   \n",
       "\n",
       "                                    item_description category    subcategory1  \\\n",
       "0  good used condition. worn and washed per lular...    women  tops & blouses   \n",
       "1  2 pairs tom's pink and black good condition. b...     kids     girls 2t-5t   \n",
       "\n",
       "  subcategory2  category_count  subcategory1_count  subcategory2_count  \\\n",
       "0        tunic          530871               85590              6469.0   \n",
       "1        shoes          137173               14774             25791.0   \n",
       "\n",
       "   avg_brand_price  avg_cat_price  avg_subcat1_price  avg_subcat2_price  \n",
       "0         3.627642       3.395491           2.959278           3.379576  \n",
       "1         3.152969       3.076385           2.948304           3.252362  "
      ]
     },
     "execution_count": 109,
     "metadata": {},
     "output_type": "execute_result"
    }
   ],
   "source": [
    "x_test_count_encoded.head(2)"
   ]
  },
  {
   "cell_type": "code",
   "execution_count": 110,
   "metadata": {},
   "outputs": [],
   "source": [
    "x_test_count_encoded['avg_brand_price'].fillna(0,inplace=True)\n",
    "x_test_count_encoded['avg_subcat2_price'].fillna(0,inplace=True)"
   ]
  },
  {
   "cell_type": "code",
   "execution_count": 111,
   "metadata": {},
   "outputs": [
    {
     "data": {
      "text/plain": [
       "(1185328, 43302)"
      ]
     },
     "execution_count": 111,
     "metadata": {},
     "output_type": "execute_result"
    }
   ],
   "source": [
    "from scipy.sparse import hstack\n",
    "# with the same hstack function we are concatinating a sparse matrix and a dense matirx :)\n",
    "X_TRAIN = hstack((name_tfidf_train,desc_tfidf_train,brand_name_tfidf_train,x_train_count_encoded[['shipping','category_count','subcategory1_count','subcategory2_count','avg_brand_price','avg_cat_price','avg_subcat1_price','avg_subcat2_price']])).tocsr()\n",
    "X_TRAIN.shape"
   ]
  },
  {
   "cell_type": "code",
   "execution_count": 112,
   "metadata": {},
   "outputs": [
    {
     "data": {
      "text/plain": [
       "(296333, 43302)"
      ]
     },
     "execution_count": 112,
     "metadata": {},
     "output_type": "execute_result"
    }
   ],
   "source": [
    "X_TEST = hstack((name_tfidf_test,desc_tfidf_test,brand_name_tfidf_test,x_test_count_encoded[['shipping','category_count','subcategory1_count','subcategory2_count','avg_brand_price','avg_cat_price','avg_subcat1_price','avg_subcat2_price']])).tocsr()\n",
    "X_TEST.shape"
   ]
  },
  {
   "cell_type": "code",
   "execution_count": 113,
   "metadata": {},
   "outputs": [
    {
     "data": {
      "text/plain": [
       "LinearRegression(copy_X=True, fit_intercept=True, n_jobs=-1, normalize=False)"
      ]
     },
     "execution_count": 113,
     "metadata": {},
     "output_type": "execute_result"
    }
   ],
   "source": [
    "from sklearn.linear_model import LinearRegression\n",
    "from sklearn import metrics\n",
    "\n",
    "regressor = LinearRegression(n_jobs=-1)  \n",
    "regressor.fit(X_TRAIN, y_train)"
   ]
  },
  {
   "cell_type": "code",
   "execution_count": 114,
   "metadata": {},
   "outputs": [],
   "source": [
    "y_pred = regressor.predict(X_TEST)"
   ]
  },
  {
   "cell_type": "code",
   "execution_count": 115,
   "metadata": {},
   "outputs": [],
   "source": [
    "y_pred[y_pred<0]=0"
   ]
  },
  {
   "cell_type": "code",
   "execution_count": 116,
   "metadata": {},
   "outputs": [
    {
     "data": {
      "text/plain": [
       "0.12587940759956284"
      ]
     },
     "execution_count": 116,
     "metadata": {},
     "output_type": "execute_result"
    }
   ],
   "source": [
    "from sklearn.metrics import mean_squared_log_error\n",
    "np.sqrt(mean_squared_log_error(y_test, y_pred))"
   ]
  },
  {
   "cell_type": "code",
   "execution_count": 117,
   "metadata": {},
   "outputs": [
    {
     "data": {
      "text/plain": [
       "Ridge(alpha=0.4, copy_X=True, fit_intercept=True, max_iter=None,\n",
       "      normalize=False, random_state=205, solver='auto', tol=0.001)"
      ]
     },
     "execution_count": 117,
     "metadata": {},
     "output_type": "execute_result"
    }
   ],
   "source": [
    "from sklearn.linear_model import Ridge\n",
    "model_ridge = Ridge(solver=\"auto\", fit_intercept=True, random_state=205, alpha=0.4)\n",
    "model_ridge.fit(X_TRAIN, y_train)"
   ]
  },
  {
   "cell_type": "code",
   "execution_count": 118,
   "metadata": {},
   "outputs": [],
   "source": [
    "pred_ridge = model_ridge.predict(X_TEST)"
   ]
  },
  {
   "cell_type": "code",
   "execution_count": 119,
   "metadata": {},
   "outputs": [
    {
     "data": {
      "text/plain": [
       "0.18397987948055602"
      ]
     },
     "execution_count": 119,
     "metadata": {},
     "output_type": "execute_result"
    }
   ],
   "source": [
    "np.sqrt(mean_squared_log_error(y_test, pred_ridge))"
   ]
  },
  {
   "cell_type": "code",
   "execution_count": 120,
   "metadata": {},
   "outputs": [
    {
     "name": "stderr",
     "output_type": "stream",
     "text": [
      "100%|██████████| 3460725/3460725 [02:26<00:00, 23558.73it/s]\n",
      "100%|██████████| 3460725/3460725 [06:46<00:00, 8521.00it/s]\n",
      "100%|██████████| 3460725/3460725 [01:49<00:00, 31653.21it/s]\n"
     ]
    },
    {
     "name": "stdout",
     "output_type": "stream",
     "text": [
      "Shape of matrix after TFIDF vectorizer  (3460725, 20000)\n",
      "Shape of matrix after TFIDF vectorizer  (3460725, 20000)\n",
      "Shape of matrix after TFIDF vectorizer  (3460725, 3294)\n"
     ]
    }
   ],
   "source": [
    "#preparing test data\n",
    "\n",
    "test_data['name']=test_data['name'].str.lower()\n",
    "test_data['category_name']=test_data['category_name'].str.lower()\n",
    "\n",
    "sub_category_columns_test=test_data['category_name'].str.split(\"/\",expand=True,n=2)\n",
    "\n",
    "test_data['category']=sub_category_columns_test[0]\n",
    "test_data['subcategory1']=sub_category_columns_test[1]\n",
    "test_data['subcategory2']=sub_category_columns_test[2]\n",
    "\n",
    "test_data['brand_name']=test_data['brand_name'].str.lower()\n",
    "\n",
    "# converting all item descritpion to lower case\n",
    "test_data['item_description']=test_data['item_description'].str.lower()\n",
    "\n",
    "test_data['item_description'].fillna(value='Not Present',inplace=True)\n",
    "\n",
    "test_data['category'].fillna(value='Not Present',inplace=True)\n",
    "\n",
    "test_data['brand_name'].fillna(value='Not Present',inplace=True)\n",
    "\n",
    "test_data['subcategory1'].fillna(value='Not Present',inplace=True)\n",
    "test_data['subcategory2'].fillna(value='Not Present',inplace=True)\n",
    "\n",
    "\n",
    "preprocessed_name_query = []\n",
    "for sentance in tqdm(test_data['name'].values):\n",
    "    sent = decontracted(sentance)\n",
    "    sent = sent.replace('\\\\r', ' ')\n",
    "    sent = sent.replace('\\\\\"', ' ')\n",
    "    sent = sent.replace('\\\\n', ' ')\n",
    "    sent = re.sub('[^A-Za-z0-9]+', ' ', sent)\n",
    "    \n",
    "    sent = ' '.join(e for e in sent.split() if e not in stopwords)\n",
    "    preprocessed_name_query.append(sent.lower().strip())\n",
    "\n",
    "preprocessed_description_query = []\n",
    "for sentance in tqdm(test_data['item_description'].values):\n",
    "    sent = decontracted(sentance)\n",
    "    sent = sent.replace('\\\\r', ' ')\n",
    "    sent = sent.replace('\\\\\"', ' ')\n",
    "    sent = sent.replace('\\\\n', ' ')\n",
    "    sent = re.sub('[^A-Za-z0-9]+', ' ', sent)\n",
    "        \n",
    "    sent = ' '.join(e for e in sent.split() if e not in stopwords)\n",
    "    preprocessed_description_query.append(sent.lower().strip())\n",
    "    \n",
    "preprocessed_brand_name_query = []\n",
    "for sentance in tqdm(test_data['brand_name'].values):\n",
    "    sent = decontracted(sentance)\n",
    "    sent = sent.replace('\\\\r', ' ')\n",
    "    sent = sent.replace('\\\\\"', ' ')\n",
    "    sent = sent.replace('\\\\n', ' ')\n",
    "    sent = re.sub('[^A-Za-z0-9]+', ' ', sent)\n",
    "    \n",
    "    sent = ' '.join(e for e in sent.split() if e not in stopwords)\n",
    "    preprocessed_brand_name_query.append(sent.lower().strip())\n",
    "\n",
    "name_tfidf_query = vectorizer_name_tfidf.transform(preprocessed_name_query)\n",
    "print(\"Shape of matrix after TFIDF vectorizer \",name_tfidf_query.shape)\n",
    "\n",
    "desc_tfidf_query = vectorizer_desc_tfidf.transform(preprocessed_description_query)\n",
    "print(\"Shape of matrix after TFIDF vectorizer \",desc_tfidf_query.shape)\n",
    "\n",
    "brand_name_tfidf_query = vectorizer_brand_name_tfidf.transform(preprocessed_brand_name_query)\n",
    "print(\"Shape of matrix after TFIDF vectorizer \",brand_name_tfidf_query.shape)\n",
    "\n",
    "count_encoded_query=count_enc.transform(test_data[cat_features])\n",
    "\n",
    "test_data=test_data.join(count_encoded_query.add_suffix(\"_count\"))\n",
    "\n",
    "test_data=pd.merge(test_data,avg_brand_price[['brand_name','log_price']],how='left',on='brand_name')\n",
    "\n",
    "test_data.rename(columns={'log_price':'avg_brand_price'}, inplace=True)\n",
    "\n",
    "test_data=pd.merge(test_data,avg_cat_price[['category','log_price']],how='left',on='category')\n",
    "\n",
    "test_data.rename(columns={'log_price':'avg_cat_price'}, inplace=True)\n",
    "\n",
    "test_data=pd.merge(test_data,avg_subcat1_price[['subcategory1','log_price']],how='left',on='subcategory1')\n",
    "\n",
    "test_data.rename(columns={'log_price':'avg_subcat1_price'}, inplace=True)\n",
    "\n",
    "test_data=pd.merge(test_data,avg_subcat2_price[['subcategory2','log_price']],how='left',on='subcategory2')\n",
    "\n",
    "test_data.rename(columns={'log_price':'avg_subcat2_price'}, inplace=True)\n",
    "\n",
    "\n",
    "test_data['category_count'].fillna(0,inplace=True)\n",
    "test_data['subcategory1_count'].fillna(0,inplace=True)\n",
    "test_data['subcategory2_count'].fillna(0,inplace=True)\n",
    "test_data['avg_brand_price'].fillna(0,inplace=True)\n",
    "test_data['avg_cat_price'].fillna(0,inplace=True)\n",
    "test_data['avg_subcat1_price'].fillna(0,inplace=True)\n",
    "test_data['avg_subcat2_price'].fillna(0,inplace=True)"
   ]
  },
  {
   "cell_type": "code",
   "execution_count": 121,
   "metadata": {},
   "outputs": [
    {
     "data": {
      "text/plain": [
       "(3460725, 43302)"
      ]
     },
     "execution_count": 121,
     "metadata": {},
     "output_type": "execute_result"
    }
   ],
   "source": [
    "x_query = hstack((name_tfidf_query,desc_tfidf_query,brand_name_tfidf_query,test_data[['shipping','category_count','subcategory1_count','subcategory2_count','avg_brand_price','avg_cat_price','avg_subcat1_price','avg_subcat2_price']])).tocsr()\n",
    "x_query.shape"
   ]
  },
  {
   "cell_type": "code",
   "execution_count": 122,
   "metadata": {},
   "outputs": [],
   "source": [
    "y_pred_query = model_ridge.predict(x_query)"
   ]
  },
  {
   "cell_type": "code",
   "execution_count": 123,
   "metadata": {},
   "outputs": [],
   "source": [
    "y_pred_query[y_pred_query<0]=0"
   ]
  },
  {
   "cell_type": "code",
   "execution_count": 124,
   "metadata": {},
   "outputs": [],
   "source": [
    "y_pred_query=np.exp(y_pred_query)-1"
   ]
  },
  {
   "cell_type": "code",
   "execution_count": 125,
   "metadata": {},
   "outputs": [],
   "source": [
    "test_data['price']=y_pred_query"
   ]
  },
  {
   "cell_type": "code",
   "execution_count": 126,
   "metadata": {},
   "outputs": [],
   "source": [
    "sub1=test_data[['test_id','price']]"
   ]
  },
  {
   "cell_type": "code",
   "execution_count": 127,
   "metadata": {},
   "outputs": [],
   "source": [
    "sub1.to_csv('submission.csv',index=False)"
   ]
  }
 ],
 "metadata": {
  "kernelspec": {
   "display_name": "Python 3",
   "language": "python",
   "name": "python3"
  },
  "language_info": {
   "codemirror_mode": {
    "name": "ipython",
    "version": 3
   },
   "file_extension": ".py",
   "mimetype": "text/x-python",
   "name": "python",
   "nbconvert_exporter": "python",
   "pygments_lexer": "ipython3",
   "version": "3.6.6"
  }
 },
 "nbformat": 4,
 "nbformat_minor": 4
}
